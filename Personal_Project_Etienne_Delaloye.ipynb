{
  "nbformat": 4,
  "nbformat_minor": 0,
  "metadata": {
    "colab": {
      "provenance": [],
      "mount_file_id": "1CI70Sh8QRIcic5PGEx37BiK9043HG8Np",
      "authorship_tag": "ABX9TyP3pV0gz7Ql8WI+X7vDMOm6",
      "include_colab_link": true
    },
    "kernelspec": {
      "name": "python3",
      "display_name": "Python 3"
    },
    "language_info": {
      "name": "python"
    }
  },
  "cells": [
    {
      "cell_type": "markdown",
      "metadata": {
        "id": "view-in-github",
        "colab_type": "text"
      },
      "source": [
        "<a href=\"https://colab.research.google.com/github/Etienne-98/2022_ML_EES/blob/main/Personal_Project_Etienne_Delaloye.ipynb\" target=\"_parent\"><img src=\"https://colab.research.google.com/assets/colab-badge.svg\" alt=\"Open In Colab\"/></a>"
      ]
    },
    {
      "cell_type": "markdown",
      "source": [
        "MLEE FINAL PROJECT "
      ],
      "metadata": {
        "id": "CYOWpInjodqt"
      }
    },
    {
      "cell_type": "markdown",
      "source": [
        "Determination of the water potability as a function of different parameters:\n",
        "Can we predict what the Potability is going to be according to 9 different parameters? \n"
      ],
      "metadata": {
        "id": "5Sk9qXyNoIHR"
      }
    },
    {
      "cell_type": "markdown",
      "source": [
        "## 1. load dataset, import several common modules,..."
      ],
      "metadata": {
        "id": "iox6EMV1olO1"
      }
    },
    {
      "cell_type": "code",
      "execution_count": 1,
      "metadata": {
        "id": "NfcwVhLioGRK"
      },
      "outputs": [],
      "source": [
        "#@title this cell aims at importing common modules.  😀\n",
        "'''\n",
        "First, let's import a few common modules, ensure MatplotLib plots figures inline\n",
        "and prepare a function to save the figures. We also check that Python 3.5 or \n",
        "later is installed (although Python 2.x may work, it is deprecated so we \n",
        "strongly recommend you use Python 3 instead), as well as Scikit-Learn ≥0.20.\n",
        "\n",
        "''';\n",
        "\n",
        "# Python ≥3.5 is required\n",
        "import sys\n",
        "assert sys.version_info >= (3, 5)\n",
        "\n",
        "# Is this notebook running on Colab or Kaggle?\n",
        "IS_COLAB = \"google.colab\" in sys.modules\n",
        "\n",
        "# Scikit-Learn ≥0.20 is required\n",
        "import sklearn\n",
        "assert sklearn.__version__ >= \"0.20\"\n",
        "\n",
        "# Common imports\n",
        "import numpy as np\n",
        "import os\n",
        "\n",
        "# to make this notebook's output stable across runs\n",
        "rnd_seed = 42                               # always put 42\n",
        "rnd_gen = np.random.default_rng(rnd_seed)\n",
        "\n",
        "# To plot appealing and clear figures\n",
        "%matplotlib inline\n",
        "import matplotlib as mpl            # library\n",
        "import matplotlib.pyplot as plt\n",
        "mpl.rc('axes', labelsize=14)\n",
        "mpl.rc('xtick', labelsize=12)\n",
        "mpl.rc('ytick', labelsize=12)\n",
        "\n",
        "# Where to save the figures\n",
        "PROJECT_ROOT_DIR = \".\"\n",
        "CHAPTER_ID = \"classification\"\n",
        "IMAGES_PATH = os.path.join(PROJECT_ROOT_DIR, \"images\", CHAPTER_ID)\n",
        "os.makedirs(IMAGES_PATH, exist_ok=True)\n",
        "\n",
        "def save_fig(fig_id, tight_layout=True, fig_extension=\"png\", resolution=300):\n",
        "    path = os.path.join(IMAGES_PATH, fig_id + \".\" + fig_extension)\n",
        "    print(\"Saving figure\", fig_id)\n",
        "    if tight_layout:\n",
        "        plt.tight_layout()\n",
        "    plt.savefig(path, format=fig_extension, dpi=resolution)"
      ]
    },
    {
      "cell_type": "code",
      "source": [
        "#@title Now let's take a look at our dataset we're interested in diving into: it involves a water potability dataset."
      ],
      "metadata": {
        "id": "mXZfwYBopg2B"
      },
      "execution_count": 2,
      "outputs": []
    },
    {
      "cell_type": "markdown",
      "source": [
        "Load dataset and visualize it"
      ],
      "metadata": {
        "id": "p9--GHdLqJry"
      }
    },
    {
      "cell_type": "code",
      "source": [
        "#@title Several other common imports ...\n",
        "import pandas as pd  # pandas\n",
        "import numpy as np   # numpy\n",
        "import matplotlib.pyplot as plt # pyplot\n",
        "import seaborn as sns\n",
        "from sklearn.model_selection import train_test_split # for splitting data...\n",
        "from sklearn.preprocessing import MinMaxScaler\n"
      ],
      "metadata": {
        "id": "NR2hZa8cwCT_"
      },
      "execution_count": 3,
      "outputs": []
    },
    {
      "cell_type": "code",
      "source": [
        "data = pd.read_csv('/content/drive/MyDrive/Colab Notebooks/water_potability.csv') # that's my boy :)) \n",
        "#for the record, I downloaded the file directly from my GoogleDrive (after enabling its access via Colab)\n",
        "#==> so its path was directly fed into the read_csv"
      ],
      "metadata": {
        "id": "6LYAeQQ7vqRy"
      },
      "execution_count": 4,
      "outputs": []
    },
    {
      "cell_type": "markdown",
      "source": [
        "We can observe our dataset's shape for instance, as well as other interesting parameters"
      ],
      "metadata": {
        "id": "m6KYosgfy6Kq"
      }
    },
    {
      "cell_type": "code",
      "source": [
        "print('our water potability dataset is of shape:\\n',\n",
        "      data.shape)"
      ],
      "metadata": {
        "colab": {
          "base_uri": "https://localhost:8080/"
        },
        "id": "YtbNRs96yuml",
        "outputId": "23b9395a-bd01-431e-e1b4-fd9ef77bd7f9"
      },
      "execution_count": 5,
      "outputs": [
        {
          "output_type": "stream",
          "name": "stdout",
          "text": [
            "our water potability dataset is of shape:\n",
            " (3276, 10)\n"
          ]
        }
      ]
    },
    {
      "cell_type": "markdown",
      "source": [
        "So we end up having to deal with that much of a dataset; not that large though - so for instance it will not be necessary to use dimensionality reduction methods."
      ],
      "metadata": {
        "id": "J7qBOUUfzXKU"
      }
    },
    {
      "cell_type": "code",
      "source": [
        "data.head()"
      ],
      "metadata": {
        "colab": {
          "base_uri": "https://localhost:8080/",
          "height": 270
        },
        "id": "KdICFABn0Cp-",
        "outputId": "0993748e-3923-490b-fe6f-60fd315141ea"
      },
      "execution_count": 6,
      "outputs": [
        {
          "output_type": "execute_result",
          "data": {
            "text/plain": [
              "         ph    Hardness        Solids  Chloramines     Sulfate  Conductivity  \\\n",
              "0       NaN  204.890455  20791.318981     7.300212  368.516441    564.308654   \n",
              "1  3.716080  129.422921  18630.057858     6.635246         NaN    592.885359   \n",
              "2  8.099124  224.236259  19909.541732     9.275884         NaN    418.606213   \n",
              "3  8.316766  214.373394  22018.417441     8.059332  356.886136    363.266516   \n",
              "4  9.092223  181.101509  17978.986339     6.546600  310.135738    398.410813   \n",
              "\n",
              "   Organic_carbon  Trihalomethanes  Turbidity  Potability  \n",
              "0       10.379783        86.990970   2.963135           0  \n",
              "1       15.180013        56.329076   4.500656           0  \n",
              "2       16.868637        66.420093   3.055934           0  \n",
              "3       18.436524       100.341674   4.628771           0  \n",
              "4       11.558279        31.997993   4.075075           0  "
            ],
            "text/html": [
              "\n",
              "  <div id=\"df-d2fcd2ca-6ac4-4151-8e7f-6fedbc5bbc8b\">\n",
              "    <div class=\"colab-df-container\">\n",
              "      <div>\n",
              "<style scoped>\n",
              "    .dataframe tbody tr th:only-of-type {\n",
              "        vertical-align: middle;\n",
              "    }\n",
              "\n",
              "    .dataframe tbody tr th {\n",
              "        vertical-align: top;\n",
              "    }\n",
              "\n",
              "    .dataframe thead th {\n",
              "        text-align: right;\n",
              "    }\n",
              "</style>\n",
              "<table border=\"1\" class=\"dataframe\">\n",
              "  <thead>\n",
              "    <tr style=\"text-align: right;\">\n",
              "      <th></th>\n",
              "      <th>ph</th>\n",
              "      <th>Hardness</th>\n",
              "      <th>Solids</th>\n",
              "      <th>Chloramines</th>\n",
              "      <th>Sulfate</th>\n",
              "      <th>Conductivity</th>\n",
              "      <th>Organic_carbon</th>\n",
              "      <th>Trihalomethanes</th>\n",
              "      <th>Turbidity</th>\n",
              "      <th>Potability</th>\n",
              "    </tr>\n",
              "  </thead>\n",
              "  <tbody>\n",
              "    <tr>\n",
              "      <th>0</th>\n",
              "      <td>NaN</td>\n",
              "      <td>204.890455</td>\n",
              "      <td>20791.318981</td>\n",
              "      <td>7.300212</td>\n",
              "      <td>368.516441</td>\n",
              "      <td>564.308654</td>\n",
              "      <td>10.379783</td>\n",
              "      <td>86.990970</td>\n",
              "      <td>2.963135</td>\n",
              "      <td>0</td>\n",
              "    </tr>\n",
              "    <tr>\n",
              "      <th>1</th>\n",
              "      <td>3.716080</td>\n",
              "      <td>129.422921</td>\n",
              "      <td>18630.057858</td>\n",
              "      <td>6.635246</td>\n",
              "      <td>NaN</td>\n",
              "      <td>592.885359</td>\n",
              "      <td>15.180013</td>\n",
              "      <td>56.329076</td>\n",
              "      <td>4.500656</td>\n",
              "      <td>0</td>\n",
              "    </tr>\n",
              "    <tr>\n",
              "      <th>2</th>\n",
              "      <td>8.099124</td>\n",
              "      <td>224.236259</td>\n",
              "      <td>19909.541732</td>\n",
              "      <td>9.275884</td>\n",
              "      <td>NaN</td>\n",
              "      <td>418.606213</td>\n",
              "      <td>16.868637</td>\n",
              "      <td>66.420093</td>\n",
              "      <td>3.055934</td>\n",
              "      <td>0</td>\n",
              "    </tr>\n",
              "    <tr>\n",
              "      <th>3</th>\n",
              "      <td>8.316766</td>\n",
              "      <td>214.373394</td>\n",
              "      <td>22018.417441</td>\n",
              "      <td>8.059332</td>\n",
              "      <td>356.886136</td>\n",
              "      <td>363.266516</td>\n",
              "      <td>18.436524</td>\n",
              "      <td>100.341674</td>\n",
              "      <td>4.628771</td>\n",
              "      <td>0</td>\n",
              "    </tr>\n",
              "    <tr>\n",
              "      <th>4</th>\n",
              "      <td>9.092223</td>\n",
              "      <td>181.101509</td>\n",
              "      <td>17978.986339</td>\n",
              "      <td>6.546600</td>\n",
              "      <td>310.135738</td>\n",
              "      <td>398.410813</td>\n",
              "      <td>11.558279</td>\n",
              "      <td>31.997993</td>\n",
              "      <td>4.075075</td>\n",
              "      <td>0</td>\n",
              "    </tr>\n",
              "  </tbody>\n",
              "</table>\n",
              "</div>\n",
              "      <button class=\"colab-df-convert\" onclick=\"convertToInteractive('df-d2fcd2ca-6ac4-4151-8e7f-6fedbc5bbc8b')\"\n",
              "              title=\"Convert this dataframe to an interactive table.\"\n",
              "              style=\"display:none;\">\n",
              "        \n",
              "  <svg xmlns=\"http://www.w3.org/2000/svg\" height=\"24px\"viewBox=\"0 0 24 24\"\n",
              "       width=\"24px\">\n",
              "    <path d=\"M0 0h24v24H0V0z\" fill=\"none\"/>\n",
              "    <path d=\"M18.56 5.44l.94 2.06.94-2.06 2.06-.94-2.06-.94-.94-2.06-.94 2.06-2.06.94zm-11 1L8.5 8.5l.94-2.06 2.06-.94-2.06-.94L8.5 2.5l-.94 2.06-2.06.94zm10 10l.94 2.06.94-2.06 2.06-.94-2.06-.94-.94-2.06-.94 2.06-2.06.94z\"/><path d=\"M17.41 7.96l-1.37-1.37c-.4-.4-.92-.59-1.43-.59-.52 0-1.04.2-1.43.59L10.3 9.45l-7.72 7.72c-.78.78-.78 2.05 0 2.83L4 21.41c.39.39.9.59 1.41.59.51 0 1.02-.2 1.41-.59l7.78-7.78 2.81-2.81c.8-.78.8-2.07 0-2.86zM5.41 20L4 18.59l7.72-7.72 1.47 1.35L5.41 20z\"/>\n",
              "  </svg>\n",
              "      </button>\n",
              "      \n",
              "  <style>\n",
              "    .colab-df-container {\n",
              "      display:flex;\n",
              "      flex-wrap:wrap;\n",
              "      gap: 12px;\n",
              "    }\n",
              "\n",
              "    .colab-df-convert {\n",
              "      background-color: #E8F0FE;\n",
              "      border: none;\n",
              "      border-radius: 50%;\n",
              "      cursor: pointer;\n",
              "      display: none;\n",
              "      fill: #1967D2;\n",
              "      height: 32px;\n",
              "      padding: 0 0 0 0;\n",
              "      width: 32px;\n",
              "    }\n",
              "\n",
              "    .colab-df-convert:hover {\n",
              "      background-color: #E2EBFA;\n",
              "      box-shadow: 0px 1px 2px rgba(60, 64, 67, 0.3), 0px 1px 3px 1px rgba(60, 64, 67, 0.15);\n",
              "      fill: #174EA6;\n",
              "    }\n",
              "\n",
              "    [theme=dark] .colab-df-convert {\n",
              "      background-color: #3B4455;\n",
              "      fill: #D2E3FC;\n",
              "    }\n",
              "\n",
              "    [theme=dark] .colab-df-convert:hover {\n",
              "      background-color: #434B5C;\n",
              "      box-shadow: 0px 1px 3px 1px rgba(0, 0, 0, 0.15);\n",
              "      filter: drop-shadow(0px 1px 2px rgba(0, 0, 0, 0.3));\n",
              "      fill: #FFFFFF;\n",
              "    }\n",
              "  </style>\n",
              "\n",
              "      <script>\n",
              "        const buttonEl =\n",
              "          document.querySelector('#df-d2fcd2ca-6ac4-4151-8e7f-6fedbc5bbc8b button.colab-df-convert');\n",
              "        buttonEl.style.display =\n",
              "          google.colab.kernel.accessAllowed ? 'block' : 'none';\n",
              "\n",
              "        async function convertToInteractive(key) {\n",
              "          const element = document.querySelector('#df-d2fcd2ca-6ac4-4151-8e7f-6fedbc5bbc8b');\n",
              "          const dataTable =\n",
              "            await google.colab.kernel.invokeFunction('convertToInteractive',\n",
              "                                                     [key], {});\n",
              "          if (!dataTable) return;\n",
              "\n",
              "          const docLinkHtml = 'Like what you see? Visit the ' +\n",
              "            '<a target=\"_blank\" href=https://colab.research.google.com/notebooks/data_table.ipynb>data table notebook</a>'\n",
              "            + ' to learn more about interactive tables.';\n",
              "          element.innerHTML = '';\n",
              "          dataTable['output_type'] = 'display_data';\n",
              "          await google.colab.output.renderOutput(dataTable, element);\n",
              "          const docLink = document.createElement('div');\n",
              "          docLink.innerHTML = docLinkHtml;\n",
              "          element.appendChild(docLink);\n",
              "        }\n",
              "      </script>\n",
              "    </div>\n",
              "  </div>\n",
              "  "
            ]
          },
          "metadata": {},
          "execution_count": 6
        }
      ]
    },
    {
      "cell_type": "markdown",
      "source": [
        "Our dataset is made of 3276 rows x 10 columns, including a predicted column= the last one: according to a whole bunch of parameters (that means up to 3276 different continuous variables per predictor, e.g. pH, Hardness, Solids, Chloramines, Sulfate, Conductivity, Organic carbon, Trihalomethanes and Turbidity), what is the water quality? --> potable or not? 0=not potable/ 1= potable"
      ],
      "metadata": {
        "id": "DEB89Hbc0IsV"
      }
    },
    {
      "cell_type": "code",
      "source": [
        "data.shape[0] # number of rows "
      ],
      "metadata": {
        "colab": {
          "base_uri": "https://localhost:8080/"
        },
        "id": "XAWd6Nmo05L7",
        "outputId": "8102e6f9-b623-4680-e2e4-15782b0a4a92"
      },
      "execution_count": 7,
      "outputs": [
        {
          "output_type": "execute_result",
          "data": {
            "text/plain": [
              "3276"
            ]
          },
          "metadata": {},
          "execution_count": 7
        }
      ]
    },
    {
      "cell_type": "code",
      "source": [
        "data.shape[1 # number of columns (including \"y\" for predicted values)\n",
        "           ]"
      ],
      "metadata": {
        "colab": {
          "base_uri": "https://localhost:8080/"
        },
        "id": "j9RZiO0B082P",
        "outputId": "2acb34d0-bff5-4d0f-c6ed-9a07cc2eda94"
      },
      "execution_count": 8,
      "outputs": [
        {
          "output_type": "execute_result",
          "data": {
            "text/plain": [
              "10"
            ]
          },
          "metadata": {},
          "execution_count": 8
        }
      ]
    },
    {
      "cell_type": "markdown",
      "source": [
        "Let's see a bit more clearly what's going on in terms of values; are there missing ones?\n",
        "for that we'll recycle some written code of kaggle datasets that we've found and use the function describe()"
      ],
      "metadata": {
        "id": "Wt7LcRU31VOL"
      }
    },
    {
      "cell_type": "code",
      "source": [
        "data.describe()"
      ],
      "metadata": {
        "colab": {
          "base_uri": "https://localhost:8080/",
          "height": 364
        },
        "id": "9eh4WOsk1KLW",
        "outputId": "13d22ee6-20a6-42d0-affc-1d50048203c0"
      },
      "execution_count": 9,
      "outputs": [
        {
          "output_type": "execute_result",
          "data": {
            "text/plain": [
              "                ph     Hardness        Solids  Chloramines      Sulfate  \\\n",
              "count  2785.000000  3276.000000   3276.000000  3276.000000  2495.000000   \n",
              "mean      7.080795   196.369496  22014.092526     7.122277   333.775777   \n",
              "std       1.594320    32.879761   8768.570828     1.583085    41.416840   \n",
              "min       0.000000    47.432000    320.942611     0.352000   129.000000   \n",
              "25%       6.093092   176.850538  15666.690297     6.127421   307.699498   \n",
              "50%       7.036752   196.967627  20927.833607     7.130299   333.073546   \n",
              "75%       8.062066   216.667456  27332.762127     8.114887   359.950170   \n",
              "max      14.000000   323.124000  61227.196008    13.127000   481.030642   \n",
              "\n",
              "       Conductivity  Organic_carbon  Trihalomethanes    Turbidity   Potability  \n",
              "count   3276.000000     3276.000000      3114.000000  3276.000000  3276.000000  \n",
              "mean     426.205111       14.284970        66.396293     3.966786     0.390110  \n",
              "std       80.824064        3.308162        16.175008     0.780382     0.487849  \n",
              "min      181.483754        2.200000         0.738000     1.450000     0.000000  \n",
              "25%      365.734414       12.065801        55.844536     3.439711     0.000000  \n",
              "50%      421.884968       14.218338        66.622485     3.955028     0.000000  \n",
              "75%      481.792304       16.557652        77.337473     4.500320     1.000000  \n",
              "max      753.342620       28.300000       124.000000     6.739000     1.000000  "
            ],
            "text/html": [
              "\n",
              "  <div id=\"df-1f251ba7-825b-4166-a538-d07ef82ddf97\">\n",
              "    <div class=\"colab-df-container\">\n",
              "      <div>\n",
              "<style scoped>\n",
              "    .dataframe tbody tr th:only-of-type {\n",
              "        vertical-align: middle;\n",
              "    }\n",
              "\n",
              "    .dataframe tbody tr th {\n",
              "        vertical-align: top;\n",
              "    }\n",
              "\n",
              "    .dataframe thead th {\n",
              "        text-align: right;\n",
              "    }\n",
              "</style>\n",
              "<table border=\"1\" class=\"dataframe\">\n",
              "  <thead>\n",
              "    <tr style=\"text-align: right;\">\n",
              "      <th></th>\n",
              "      <th>ph</th>\n",
              "      <th>Hardness</th>\n",
              "      <th>Solids</th>\n",
              "      <th>Chloramines</th>\n",
              "      <th>Sulfate</th>\n",
              "      <th>Conductivity</th>\n",
              "      <th>Organic_carbon</th>\n",
              "      <th>Trihalomethanes</th>\n",
              "      <th>Turbidity</th>\n",
              "      <th>Potability</th>\n",
              "    </tr>\n",
              "  </thead>\n",
              "  <tbody>\n",
              "    <tr>\n",
              "      <th>count</th>\n",
              "      <td>2785.000000</td>\n",
              "      <td>3276.000000</td>\n",
              "      <td>3276.000000</td>\n",
              "      <td>3276.000000</td>\n",
              "      <td>2495.000000</td>\n",
              "      <td>3276.000000</td>\n",
              "      <td>3276.000000</td>\n",
              "      <td>3114.000000</td>\n",
              "      <td>3276.000000</td>\n",
              "      <td>3276.000000</td>\n",
              "    </tr>\n",
              "    <tr>\n",
              "      <th>mean</th>\n",
              "      <td>7.080795</td>\n",
              "      <td>196.369496</td>\n",
              "      <td>22014.092526</td>\n",
              "      <td>7.122277</td>\n",
              "      <td>333.775777</td>\n",
              "      <td>426.205111</td>\n",
              "      <td>14.284970</td>\n",
              "      <td>66.396293</td>\n",
              "      <td>3.966786</td>\n",
              "      <td>0.390110</td>\n",
              "    </tr>\n",
              "    <tr>\n",
              "      <th>std</th>\n",
              "      <td>1.594320</td>\n",
              "      <td>32.879761</td>\n",
              "      <td>8768.570828</td>\n",
              "      <td>1.583085</td>\n",
              "      <td>41.416840</td>\n",
              "      <td>80.824064</td>\n",
              "      <td>3.308162</td>\n",
              "      <td>16.175008</td>\n",
              "      <td>0.780382</td>\n",
              "      <td>0.487849</td>\n",
              "    </tr>\n",
              "    <tr>\n",
              "      <th>min</th>\n",
              "      <td>0.000000</td>\n",
              "      <td>47.432000</td>\n",
              "      <td>320.942611</td>\n",
              "      <td>0.352000</td>\n",
              "      <td>129.000000</td>\n",
              "      <td>181.483754</td>\n",
              "      <td>2.200000</td>\n",
              "      <td>0.738000</td>\n",
              "      <td>1.450000</td>\n",
              "      <td>0.000000</td>\n",
              "    </tr>\n",
              "    <tr>\n",
              "      <th>25%</th>\n",
              "      <td>6.093092</td>\n",
              "      <td>176.850538</td>\n",
              "      <td>15666.690297</td>\n",
              "      <td>6.127421</td>\n",
              "      <td>307.699498</td>\n",
              "      <td>365.734414</td>\n",
              "      <td>12.065801</td>\n",
              "      <td>55.844536</td>\n",
              "      <td>3.439711</td>\n",
              "      <td>0.000000</td>\n",
              "    </tr>\n",
              "    <tr>\n",
              "      <th>50%</th>\n",
              "      <td>7.036752</td>\n",
              "      <td>196.967627</td>\n",
              "      <td>20927.833607</td>\n",
              "      <td>7.130299</td>\n",
              "      <td>333.073546</td>\n",
              "      <td>421.884968</td>\n",
              "      <td>14.218338</td>\n",
              "      <td>66.622485</td>\n",
              "      <td>3.955028</td>\n",
              "      <td>0.000000</td>\n",
              "    </tr>\n",
              "    <tr>\n",
              "      <th>75%</th>\n",
              "      <td>8.062066</td>\n",
              "      <td>216.667456</td>\n",
              "      <td>27332.762127</td>\n",
              "      <td>8.114887</td>\n",
              "      <td>359.950170</td>\n",
              "      <td>481.792304</td>\n",
              "      <td>16.557652</td>\n",
              "      <td>77.337473</td>\n",
              "      <td>4.500320</td>\n",
              "      <td>1.000000</td>\n",
              "    </tr>\n",
              "    <tr>\n",
              "      <th>max</th>\n",
              "      <td>14.000000</td>\n",
              "      <td>323.124000</td>\n",
              "      <td>61227.196008</td>\n",
              "      <td>13.127000</td>\n",
              "      <td>481.030642</td>\n",
              "      <td>753.342620</td>\n",
              "      <td>28.300000</td>\n",
              "      <td>124.000000</td>\n",
              "      <td>6.739000</td>\n",
              "      <td>1.000000</td>\n",
              "    </tr>\n",
              "  </tbody>\n",
              "</table>\n",
              "</div>\n",
              "      <button class=\"colab-df-convert\" onclick=\"convertToInteractive('df-1f251ba7-825b-4166-a538-d07ef82ddf97')\"\n",
              "              title=\"Convert this dataframe to an interactive table.\"\n",
              "              style=\"display:none;\">\n",
              "        \n",
              "  <svg xmlns=\"http://www.w3.org/2000/svg\" height=\"24px\"viewBox=\"0 0 24 24\"\n",
              "       width=\"24px\">\n",
              "    <path d=\"M0 0h24v24H0V0z\" fill=\"none\"/>\n",
              "    <path d=\"M18.56 5.44l.94 2.06.94-2.06 2.06-.94-2.06-.94-.94-2.06-.94 2.06-2.06.94zm-11 1L8.5 8.5l.94-2.06 2.06-.94-2.06-.94L8.5 2.5l-.94 2.06-2.06.94zm10 10l.94 2.06.94-2.06 2.06-.94-2.06-.94-.94-2.06-.94 2.06-2.06.94z\"/><path d=\"M17.41 7.96l-1.37-1.37c-.4-.4-.92-.59-1.43-.59-.52 0-1.04.2-1.43.59L10.3 9.45l-7.72 7.72c-.78.78-.78 2.05 0 2.83L4 21.41c.39.39.9.59 1.41.59.51 0 1.02-.2 1.41-.59l7.78-7.78 2.81-2.81c.8-.78.8-2.07 0-2.86zM5.41 20L4 18.59l7.72-7.72 1.47 1.35L5.41 20z\"/>\n",
              "  </svg>\n",
              "      </button>\n",
              "      \n",
              "  <style>\n",
              "    .colab-df-container {\n",
              "      display:flex;\n",
              "      flex-wrap:wrap;\n",
              "      gap: 12px;\n",
              "    }\n",
              "\n",
              "    .colab-df-convert {\n",
              "      background-color: #E8F0FE;\n",
              "      border: none;\n",
              "      border-radius: 50%;\n",
              "      cursor: pointer;\n",
              "      display: none;\n",
              "      fill: #1967D2;\n",
              "      height: 32px;\n",
              "      padding: 0 0 0 0;\n",
              "      width: 32px;\n",
              "    }\n",
              "\n",
              "    .colab-df-convert:hover {\n",
              "      background-color: #E2EBFA;\n",
              "      box-shadow: 0px 1px 2px rgba(60, 64, 67, 0.3), 0px 1px 3px 1px rgba(60, 64, 67, 0.15);\n",
              "      fill: #174EA6;\n",
              "    }\n",
              "\n",
              "    [theme=dark] .colab-df-convert {\n",
              "      background-color: #3B4455;\n",
              "      fill: #D2E3FC;\n",
              "    }\n",
              "\n",
              "    [theme=dark] .colab-df-convert:hover {\n",
              "      background-color: #434B5C;\n",
              "      box-shadow: 0px 1px 3px 1px rgba(0, 0, 0, 0.15);\n",
              "      filter: drop-shadow(0px 1px 2px rgba(0, 0, 0, 0.3));\n",
              "      fill: #FFFFFF;\n",
              "    }\n",
              "  </style>\n",
              "\n",
              "      <script>\n",
              "        const buttonEl =\n",
              "          document.querySelector('#df-1f251ba7-825b-4166-a538-d07ef82ddf97 button.colab-df-convert');\n",
              "        buttonEl.style.display =\n",
              "          google.colab.kernel.accessAllowed ? 'block' : 'none';\n",
              "\n",
              "        async function convertToInteractive(key) {\n",
              "          const element = document.querySelector('#df-1f251ba7-825b-4166-a538-d07ef82ddf97');\n",
              "          const dataTable =\n",
              "            await google.colab.kernel.invokeFunction('convertToInteractive',\n",
              "                                                     [key], {});\n",
              "          if (!dataTable) return;\n",
              "\n",
              "          const docLinkHtml = 'Like what you see? Visit the ' +\n",
              "            '<a target=\"_blank\" href=https://colab.research.google.com/notebooks/data_table.ipynb>data table notebook</a>'\n",
              "            + ' to learn more about interactive tables.';\n",
              "          element.innerHTML = '';\n",
              "          dataTable['output_type'] = 'display_data';\n",
              "          await google.colab.output.renderOutput(dataTable, element);\n",
              "          const docLink = document.createElement('div');\n",
              "          docLink.innerHTML = docLinkHtml;\n",
              "          element.appendChild(docLink);\n",
              "        }\n",
              "      </script>\n",
              "    </div>\n",
              "  </div>\n",
              "  "
            ]
          },
          "metadata": {},
          "execution_count": 9
        }
      ]
    },
    {
      "cell_type": "markdown",
      "source": [
        "But that's a bit \"wordy\" and hard to read... let's transpose the dataframe:"
      ],
      "metadata": {
        "id": "mgW_fZ6j10F2"
      }
    },
    {
      "cell_type": "code",
      "source": [
        "data.describe().T # transpose dataframe"
      ],
      "metadata": {
        "colab": {
          "base_uri": "https://localhost:8080/",
          "height": 363
        },
        "id": "HFhbtFPU1xGC",
        "outputId": "6cbe9acd-9ec8-4995-de51-34f0dec883d7"
      },
      "execution_count": 10,
      "outputs": [
        {
          "output_type": "execute_result",
          "data": {
            "text/plain": [
              "                  count          mean          std         min           25%  \\\n",
              "ph               2785.0      7.080795     1.594320    0.000000      6.093092   \n",
              "Hardness         3276.0    196.369496    32.879761   47.432000    176.850538   \n",
              "Solids           3276.0  22014.092526  8768.570828  320.942611  15666.690297   \n",
              "Chloramines      3276.0      7.122277     1.583085    0.352000      6.127421   \n",
              "Sulfate          2495.0    333.775777    41.416840  129.000000    307.699498   \n",
              "Conductivity     3276.0    426.205111    80.824064  181.483754    365.734414   \n",
              "Organic_carbon   3276.0     14.284970     3.308162    2.200000     12.065801   \n",
              "Trihalomethanes  3114.0     66.396293    16.175008    0.738000     55.844536   \n",
              "Turbidity        3276.0      3.966786     0.780382    1.450000      3.439711   \n",
              "Potability       3276.0      0.390110     0.487849    0.000000      0.000000   \n",
              "\n",
              "                          50%           75%           max  \n",
              "ph                   7.036752      8.062066     14.000000  \n",
              "Hardness           196.967627    216.667456    323.124000  \n",
              "Solids           20927.833607  27332.762127  61227.196008  \n",
              "Chloramines          7.130299      8.114887     13.127000  \n",
              "Sulfate            333.073546    359.950170    481.030642  \n",
              "Conductivity       421.884968    481.792304    753.342620  \n",
              "Organic_carbon      14.218338     16.557652     28.300000  \n",
              "Trihalomethanes     66.622485     77.337473    124.000000  \n",
              "Turbidity            3.955028      4.500320      6.739000  \n",
              "Potability           0.000000      1.000000      1.000000  "
            ],
            "text/html": [
              "\n",
              "  <div id=\"df-096e9898-f9d1-46a9-89fc-36e706408009\">\n",
              "    <div class=\"colab-df-container\">\n",
              "      <div>\n",
              "<style scoped>\n",
              "    .dataframe tbody tr th:only-of-type {\n",
              "        vertical-align: middle;\n",
              "    }\n",
              "\n",
              "    .dataframe tbody tr th {\n",
              "        vertical-align: top;\n",
              "    }\n",
              "\n",
              "    .dataframe thead th {\n",
              "        text-align: right;\n",
              "    }\n",
              "</style>\n",
              "<table border=\"1\" class=\"dataframe\">\n",
              "  <thead>\n",
              "    <tr style=\"text-align: right;\">\n",
              "      <th></th>\n",
              "      <th>count</th>\n",
              "      <th>mean</th>\n",
              "      <th>std</th>\n",
              "      <th>min</th>\n",
              "      <th>25%</th>\n",
              "      <th>50%</th>\n",
              "      <th>75%</th>\n",
              "      <th>max</th>\n",
              "    </tr>\n",
              "  </thead>\n",
              "  <tbody>\n",
              "    <tr>\n",
              "      <th>ph</th>\n",
              "      <td>2785.0</td>\n",
              "      <td>7.080795</td>\n",
              "      <td>1.594320</td>\n",
              "      <td>0.000000</td>\n",
              "      <td>6.093092</td>\n",
              "      <td>7.036752</td>\n",
              "      <td>8.062066</td>\n",
              "      <td>14.000000</td>\n",
              "    </tr>\n",
              "    <tr>\n",
              "      <th>Hardness</th>\n",
              "      <td>3276.0</td>\n",
              "      <td>196.369496</td>\n",
              "      <td>32.879761</td>\n",
              "      <td>47.432000</td>\n",
              "      <td>176.850538</td>\n",
              "      <td>196.967627</td>\n",
              "      <td>216.667456</td>\n",
              "      <td>323.124000</td>\n",
              "    </tr>\n",
              "    <tr>\n",
              "      <th>Solids</th>\n",
              "      <td>3276.0</td>\n",
              "      <td>22014.092526</td>\n",
              "      <td>8768.570828</td>\n",
              "      <td>320.942611</td>\n",
              "      <td>15666.690297</td>\n",
              "      <td>20927.833607</td>\n",
              "      <td>27332.762127</td>\n",
              "      <td>61227.196008</td>\n",
              "    </tr>\n",
              "    <tr>\n",
              "      <th>Chloramines</th>\n",
              "      <td>3276.0</td>\n",
              "      <td>7.122277</td>\n",
              "      <td>1.583085</td>\n",
              "      <td>0.352000</td>\n",
              "      <td>6.127421</td>\n",
              "      <td>7.130299</td>\n",
              "      <td>8.114887</td>\n",
              "      <td>13.127000</td>\n",
              "    </tr>\n",
              "    <tr>\n",
              "      <th>Sulfate</th>\n",
              "      <td>2495.0</td>\n",
              "      <td>333.775777</td>\n",
              "      <td>41.416840</td>\n",
              "      <td>129.000000</td>\n",
              "      <td>307.699498</td>\n",
              "      <td>333.073546</td>\n",
              "      <td>359.950170</td>\n",
              "      <td>481.030642</td>\n",
              "    </tr>\n",
              "    <tr>\n",
              "      <th>Conductivity</th>\n",
              "      <td>3276.0</td>\n",
              "      <td>426.205111</td>\n",
              "      <td>80.824064</td>\n",
              "      <td>181.483754</td>\n",
              "      <td>365.734414</td>\n",
              "      <td>421.884968</td>\n",
              "      <td>481.792304</td>\n",
              "      <td>753.342620</td>\n",
              "    </tr>\n",
              "    <tr>\n",
              "      <th>Organic_carbon</th>\n",
              "      <td>3276.0</td>\n",
              "      <td>14.284970</td>\n",
              "      <td>3.308162</td>\n",
              "      <td>2.200000</td>\n",
              "      <td>12.065801</td>\n",
              "      <td>14.218338</td>\n",
              "      <td>16.557652</td>\n",
              "      <td>28.300000</td>\n",
              "    </tr>\n",
              "    <tr>\n",
              "      <th>Trihalomethanes</th>\n",
              "      <td>3114.0</td>\n",
              "      <td>66.396293</td>\n",
              "      <td>16.175008</td>\n",
              "      <td>0.738000</td>\n",
              "      <td>55.844536</td>\n",
              "      <td>66.622485</td>\n",
              "      <td>77.337473</td>\n",
              "      <td>124.000000</td>\n",
              "    </tr>\n",
              "    <tr>\n",
              "      <th>Turbidity</th>\n",
              "      <td>3276.0</td>\n",
              "      <td>3.966786</td>\n",
              "      <td>0.780382</td>\n",
              "      <td>1.450000</td>\n",
              "      <td>3.439711</td>\n",
              "      <td>3.955028</td>\n",
              "      <td>4.500320</td>\n",
              "      <td>6.739000</td>\n",
              "    </tr>\n",
              "    <tr>\n",
              "      <th>Potability</th>\n",
              "      <td>3276.0</td>\n",
              "      <td>0.390110</td>\n",
              "      <td>0.487849</td>\n",
              "      <td>0.000000</td>\n",
              "      <td>0.000000</td>\n",
              "      <td>0.000000</td>\n",
              "      <td>1.000000</td>\n",
              "      <td>1.000000</td>\n",
              "    </tr>\n",
              "  </tbody>\n",
              "</table>\n",
              "</div>\n",
              "      <button class=\"colab-df-convert\" onclick=\"convertToInteractive('df-096e9898-f9d1-46a9-89fc-36e706408009')\"\n",
              "              title=\"Convert this dataframe to an interactive table.\"\n",
              "              style=\"display:none;\">\n",
              "        \n",
              "  <svg xmlns=\"http://www.w3.org/2000/svg\" height=\"24px\"viewBox=\"0 0 24 24\"\n",
              "       width=\"24px\">\n",
              "    <path d=\"M0 0h24v24H0V0z\" fill=\"none\"/>\n",
              "    <path d=\"M18.56 5.44l.94 2.06.94-2.06 2.06-.94-2.06-.94-.94-2.06-.94 2.06-2.06.94zm-11 1L8.5 8.5l.94-2.06 2.06-.94-2.06-.94L8.5 2.5l-.94 2.06-2.06.94zm10 10l.94 2.06.94-2.06 2.06-.94-2.06-.94-.94-2.06-.94 2.06-2.06.94z\"/><path d=\"M17.41 7.96l-1.37-1.37c-.4-.4-.92-.59-1.43-.59-.52 0-1.04.2-1.43.59L10.3 9.45l-7.72 7.72c-.78.78-.78 2.05 0 2.83L4 21.41c.39.39.9.59 1.41.59.51 0 1.02-.2 1.41-.59l7.78-7.78 2.81-2.81c.8-.78.8-2.07 0-2.86zM5.41 20L4 18.59l7.72-7.72 1.47 1.35L5.41 20z\"/>\n",
              "  </svg>\n",
              "      </button>\n",
              "      \n",
              "  <style>\n",
              "    .colab-df-container {\n",
              "      display:flex;\n",
              "      flex-wrap:wrap;\n",
              "      gap: 12px;\n",
              "    }\n",
              "\n",
              "    .colab-df-convert {\n",
              "      background-color: #E8F0FE;\n",
              "      border: none;\n",
              "      border-radius: 50%;\n",
              "      cursor: pointer;\n",
              "      display: none;\n",
              "      fill: #1967D2;\n",
              "      height: 32px;\n",
              "      padding: 0 0 0 0;\n",
              "      width: 32px;\n",
              "    }\n",
              "\n",
              "    .colab-df-convert:hover {\n",
              "      background-color: #E2EBFA;\n",
              "      box-shadow: 0px 1px 2px rgba(60, 64, 67, 0.3), 0px 1px 3px 1px rgba(60, 64, 67, 0.15);\n",
              "      fill: #174EA6;\n",
              "    }\n",
              "\n",
              "    [theme=dark] .colab-df-convert {\n",
              "      background-color: #3B4455;\n",
              "      fill: #D2E3FC;\n",
              "    }\n",
              "\n",
              "    [theme=dark] .colab-df-convert:hover {\n",
              "      background-color: #434B5C;\n",
              "      box-shadow: 0px 1px 3px 1px rgba(0, 0, 0, 0.15);\n",
              "      filter: drop-shadow(0px 1px 2px rgba(0, 0, 0, 0.3));\n",
              "      fill: #FFFFFF;\n",
              "    }\n",
              "  </style>\n",
              "\n",
              "      <script>\n",
              "        const buttonEl =\n",
              "          document.querySelector('#df-096e9898-f9d1-46a9-89fc-36e706408009 button.colab-df-convert');\n",
              "        buttonEl.style.display =\n",
              "          google.colab.kernel.accessAllowed ? 'block' : 'none';\n",
              "\n",
              "        async function convertToInteractive(key) {\n",
              "          const element = document.querySelector('#df-096e9898-f9d1-46a9-89fc-36e706408009');\n",
              "          const dataTable =\n",
              "            await google.colab.kernel.invokeFunction('convertToInteractive',\n",
              "                                                     [key], {});\n",
              "          if (!dataTable) return;\n",
              "\n",
              "          const docLinkHtml = 'Like what you see? Visit the ' +\n",
              "            '<a target=\"_blank\" href=https://colab.research.google.com/notebooks/data_table.ipynb>data table notebook</a>'\n",
              "            + ' to learn more about interactive tables.';\n",
              "          element.innerHTML = '';\n",
              "          dataTable['output_type'] = 'display_data';\n",
              "          await google.colab.output.renderOutput(dataTable, element);\n",
              "          const docLink = document.createElement('div');\n",
              "          docLink.innerHTML = docLinkHtml;\n",
              "          element.appendChild(docLink);\n",
              "        }\n",
              "      </script>\n",
              "    </div>\n",
              "  </div>\n",
              "  "
            ]
          },
          "metadata": {},
          "execution_count": 10
        }
      ]
    },
    {
      "cell_type": "markdown",
      "source": [
        "we can see that for instance almost 500 pH values are missing. that gives us a clearer insight of the data distribution, which can also be represented as follows:"
      ],
      "metadata": {
        "id": "kK0XS7eG2DpT"
      }
    },
    {
      "cell_type": "code",
      "source": [
        "data.isnull().T # where are the missing values located"
      ],
      "metadata": {
        "colab": {
          "base_uri": "https://localhost:8080/",
          "height": 456
        },
        "id": "R5MGb0PR2UB7",
        "outputId": "1c656e17-14f4-4937-fd6b-f5957ffbd93f"
      },
      "execution_count": 11,
      "outputs": [
        {
          "output_type": "execute_result",
          "data": {
            "text/plain": [
              "                  0      1      2      3      4      5      6      7     \\\n",
              "ph                True  False  False  False  False  False  False  False   \n",
              "Hardness         False  False  False  False  False  False  False  False   \n",
              "Solids           False  False  False  False  False  False  False  False   \n",
              "Chloramines      False  False  False  False  False  False  False  False   \n",
              "Sulfate          False   True   True  False  False  False  False  False   \n",
              "Conductivity     False  False  False  False  False  False  False  False   \n",
              "Organic_carbon   False  False  False  False  False  False  False  False   \n",
              "Trihalomethanes  False  False  False  False  False  False  False  False   \n",
              "Turbidity        False  False  False  False  False  False  False  False   \n",
              "Potability       False  False  False  False  False  False  False  False   \n",
              "\n",
              "                  8      9     ...   3266   3267   3268   3269   3270   3271  \\\n",
              "ph                True  False  ...  False  False  False  False  False  False   \n",
              "Hardness         False  False  ...  False  False  False  False  False  False   \n",
              "Solids           False  False  ...  False  False  False  False  False  False   \n",
              "Chloramines      False  False  ...  False  False  False  False  False  False   \n",
              "Sulfate          False  False  ...   True  False  False  False  False  False   \n",
              "Conductivity     False  False  ...  False  False  False  False  False  False   \n",
              "Organic_carbon   False  False  ...  False  False  False  False  False  False   \n",
              "Trihalomethanes  False  False  ...  False  False  False  False  False  False   \n",
              "Turbidity        False  False  ...  False  False  False  False  False  False   \n",
              "Potability       False  False  ...  False  False  False  False  False  False   \n",
              "\n",
              "                  3272   3273   3274   3275  \n",
              "ph               False  False  False  False  \n",
              "Hardness         False  False  False  False  \n",
              "Solids           False  False  False  False  \n",
              "Chloramines      False  False  False  False  \n",
              "Sulfate           True   True   True   True  \n",
              "Conductivity     False  False  False  False  \n",
              "Organic_carbon   False  False  False  False  \n",
              "Trihalomethanes   True  False  False  False  \n",
              "Turbidity        False  False  False  False  \n",
              "Potability       False  False  False  False  \n",
              "\n",
              "[10 rows x 3276 columns]"
            ],
            "text/html": [
              "\n",
              "  <div id=\"df-239c9455-1a53-4d6e-b103-bacd1ce94676\">\n",
              "    <div class=\"colab-df-container\">\n",
              "      <div>\n",
              "<style scoped>\n",
              "    .dataframe tbody tr th:only-of-type {\n",
              "        vertical-align: middle;\n",
              "    }\n",
              "\n",
              "    .dataframe tbody tr th {\n",
              "        vertical-align: top;\n",
              "    }\n",
              "\n",
              "    .dataframe thead th {\n",
              "        text-align: right;\n",
              "    }\n",
              "</style>\n",
              "<table border=\"1\" class=\"dataframe\">\n",
              "  <thead>\n",
              "    <tr style=\"text-align: right;\">\n",
              "      <th></th>\n",
              "      <th>0</th>\n",
              "      <th>1</th>\n",
              "      <th>2</th>\n",
              "      <th>3</th>\n",
              "      <th>4</th>\n",
              "      <th>5</th>\n",
              "      <th>6</th>\n",
              "      <th>7</th>\n",
              "      <th>8</th>\n",
              "      <th>9</th>\n",
              "      <th>...</th>\n",
              "      <th>3266</th>\n",
              "      <th>3267</th>\n",
              "      <th>3268</th>\n",
              "      <th>3269</th>\n",
              "      <th>3270</th>\n",
              "      <th>3271</th>\n",
              "      <th>3272</th>\n",
              "      <th>3273</th>\n",
              "      <th>3274</th>\n",
              "      <th>3275</th>\n",
              "    </tr>\n",
              "  </thead>\n",
              "  <tbody>\n",
              "    <tr>\n",
              "      <th>ph</th>\n",
              "      <td>True</td>\n",
              "      <td>False</td>\n",
              "      <td>False</td>\n",
              "      <td>False</td>\n",
              "      <td>False</td>\n",
              "      <td>False</td>\n",
              "      <td>False</td>\n",
              "      <td>False</td>\n",
              "      <td>True</td>\n",
              "      <td>False</td>\n",
              "      <td>...</td>\n",
              "      <td>False</td>\n",
              "      <td>False</td>\n",
              "      <td>False</td>\n",
              "      <td>False</td>\n",
              "      <td>False</td>\n",
              "      <td>False</td>\n",
              "      <td>False</td>\n",
              "      <td>False</td>\n",
              "      <td>False</td>\n",
              "      <td>False</td>\n",
              "    </tr>\n",
              "    <tr>\n",
              "      <th>Hardness</th>\n",
              "      <td>False</td>\n",
              "      <td>False</td>\n",
              "      <td>False</td>\n",
              "      <td>False</td>\n",
              "      <td>False</td>\n",
              "      <td>False</td>\n",
              "      <td>False</td>\n",
              "      <td>False</td>\n",
              "      <td>False</td>\n",
              "      <td>False</td>\n",
              "      <td>...</td>\n",
              "      <td>False</td>\n",
              "      <td>False</td>\n",
              "      <td>False</td>\n",
              "      <td>False</td>\n",
              "      <td>False</td>\n",
              "      <td>False</td>\n",
              "      <td>False</td>\n",
              "      <td>False</td>\n",
              "      <td>False</td>\n",
              "      <td>False</td>\n",
              "    </tr>\n",
              "    <tr>\n",
              "      <th>Solids</th>\n",
              "      <td>False</td>\n",
              "      <td>False</td>\n",
              "      <td>False</td>\n",
              "      <td>False</td>\n",
              "      <td>False</td>\n",
              "      <td>False</td>\n",
              "      <td>False</td>\n",
              "      <td>False</td>\n",
              "      <td>False</td>\n",
              "      <td>False</td>\n",
              "      <td>...</td>\n",
              "      <td>False</td>\n",
              "      <td>False</td>\n",
              "      <td>False</td>\n",
              "      <td>False</td>\n",
              "      <td>False</td>\n",
              "      <td>False</td>\n",
              "      <td>False</td>\n",
              "      <td>False</td>\n",
              "      <td>False</td>\n",
              "      <td>False</td>\n",
              "    </tr>\n",
              "    <tr>\n",
              "      <th>Chloramines</th>\n",
              "      <td>False</td>\n",
              "      <td>False</td>\n",
              "      <td>False</td>\n",
              "      <td>False</td>\n",
              "      <td>False</td>\n",
              "      <td>False</td>\n",
              "      <td>False</td>\n",
              "      <td>False</td>\n",
              "      <td>False</td>\n",
              "      <td>False</td>\n",
              "      <td>...</td>\n",
              "      <td>False</td>\n",
              "      <td>False</td>\n",
              "      <td>False</td>\n",
              "      <td>False</td>\n",
              "      <td>False</td>\n",
              "      <td>False</td>\n",
              "      <td>False</td>\n",
              "      <td>False</td>\n",
              "      <td>False</td>\n",
              "      <td>False</td>\n",
              "    </tr>\n",
              "    <tr>\n",
              "      <th>Sulfate</th>\n",
              "      <td>False</td>\n",
              "      <td>True</td>\n",
              "      <td>True</td>\n",
              "      <td>False</td>\n",
              "      <td>False</td>\n",
              "      <td>False</td>\n",
              "      <td>False</td>\n",
              "      <td>False</td>\n",
              "      <td>False</td>\n",
              "      <td>False</td>\n",
              "      <td>...</td>\n",
              "      <td>True</td>\n",
              "      <td>False</td>\n",
              "      <td>False</td>\n",
              "      <td>False</td>\n",
              "      <td>False</td>\n",
              "      <td>False</td>\n",
              "      <td>True</td>\n",
              "      <td>True</td>\n",
              "      <td>True</td>\n",
              "      <td>True</td>\n",
              "    </tr>\n",
              "    <tr>\n",
              "      <th>Conductivity</th>\n",
              "      <td>False</td>\n",
              "      <td>False</td>\n",
              "      <td>False</td>\n",
              "      <td>False</td>\n",
              "      <td>False</td>\n",
              "      <td>False</td>\n",
              "      <td>False</td>\n",
              "      <td>False</td>\n",
              "      <td>False</td>\n",
              "      <td>False</td>\n",
              "      <td>...</td>\n",
              "      <td>False</td>\n",
              "      <td>False</td>\n",
              "      <td>False</td>\n",
              "      <td>False</td>\n",
              "      <td>False</td>\n",
              "      <td>False</td>\n",
              "      <td>False</td>\n",
              "      <td>False</td>\n",
              "      <td>False</td>\n",
              "      <td>False</td>\n",
              "    </tr>\n",
              "    <tr>\n",
              "      <th>Organic_carbon</th>\n",
              "      <td>False</td>\n",
              "      <td>False</td>\n",
              "      <td>False</td>\n",
              "      <td>False</td>\n",
              "      <td>False</td>\n",
              "      <td>False</td>\n",
              "      <td>False</td>\n",
              "      <td>False</td>\n",
              "      <td>False</td>\n",
              "      <td>False</td>\n",
              "      <td>...</td>\n",
              "      <td>False</td>\n",
              "      <td>False</td>\n",
              "      <td>False</td>\n",
              "      <td>False</td>\n",
              "      <td>False</td>\n",
              "      <td>False</td>\n",
              "      <td>False</td>\n",
              "      <td>False</td>\n",
              "      <td>False</td>\n",
              "      <td>False</td>\n",
              "    </tr>\n",
              "    <tr>\n",
              "      <th>Trihalomethanes</th>\n",
              "      <td>False</td>\n",
              "      <td>False</td>\n",
              "      <td>False</td>\n",
              "      <td>False</td>\n",
              "      <td>False</td>\n",
              "      <td>False</td>\n",
              "      <td>False</td>\n",
              "      <td>False</td>\n",
              "      <td>False</td>\n",
              "      <td>False</td>\n",
              "      <td>...</td>\n",
              "      <td>False</td>\n",
              "      <td>False</td>\n",
              "      <td>False</td>\n",
              "      <td>False</td>\n",
              "      <td>False</td>\n",
              "      <td>False</td>\n",
              "      <td>True</td>\n",
              "      <td>False</td>\n",
              "      <td>False</td>\n",
              "      <td>False</td>\n",
              "    </tr>\n",
              "    <tr>\n",
              "      <th>Turbidity</th>\n",
              "      <td>False</td>\n",
              "      <td>False</td>\n",
              "      <td>False</td>\n",
              "      <td>False</td>\n",
              "      <td>False</td>\n",
              "      <td>False</td>\n",
              "      <td>False</td>\n",
              "      <td>False</td>\n",
              "      <td>False</td>\n",
              "      <td>False</td>\n",
              "      <td>...</td>\n",
              "      <td>False</td>\n",
              "      <td>False</td>\n",
              "      <td>False</td>\n",
              "      <td>False</td>\n",
              "      <td>False</td>\n",
              "      <td>False</td>\n",
              "      <td>False</td>\n",
              "      <td>False</td>\n",
              "      <td>False</td>\n",
              "      <td>False</td>\n",
              "    </tr>\n",
              "    <tr>\n",
              "      <th>Potability</th>\n",
              "      <td>False</td>\n",
              "      <td>False</td>\n",
              "      <td>False</td>\n",
              "      <td>False</td>\n",
              "      <td>False</td>\n",
              "      <td>False</td>\n",
              "      <td>False</td>\n",
              "      <td>False</td>\n",
              "      <td>False</td>\n",
              "      <td>False</td>\n",
              "      <td>...</td>\n",
              "      <td>False</td>\n",
              "      <td>False</td>\n",
              "      <td>False</td>\n",
              "      <td>False</td>\n",
              "      <td>False</td>\n",
              "      <td>False</td>\n",
              "      <td>False</td>\n",
              "      <td>False</td>\n",
              "      <td>False</td>\n",
              "      <td>False</td>\n",
              "    </tr>\n",
              "  </tbody>\n",
              "</table>\n",
              "<p>10 rows × 3276 columns</p>\n",
              "</div>\n",
              "      <button class=\"colab-df-convert\" onclick=\"convertToInteractive('df-239c9455-1a53-4d6e-b103-bacd1ce94676')\"\n",
              "              title=\"Convert this dataframe to an interactive table.\"\n",
              "              style=\"display:none;\">\n",
              "        \n",
              "  <svg xmlns=\"http://www.w3.org/2000/svg\" height=\"24px\"viewBox=\"0 0 24 24\"\n",
              "       width=\"24px\">\n",
              "    <path d=\"M0 0h24v24H0V0z\" fill=\"none\"/>\n",
              "    <path d=\"M18.56 5.44l.94 2.06.94-2.06 2.06-.94-2.06-.94-.94-2.06-.94 2.06-2.06.94zm-11 1L8.5 8.5l.94-2.06 2.06-.94-2.06-.94L8.5 2.5l-.94 2.06-2.06.94zm10 10l.94 2.06.94-2.06 2.06-.94-2.06-.94-.94-2.06-.94 2.06-2.06.94z\"/><path d=\"M17.41 7.96l-1.37-1.37c-.4-.4-.92-.59-1.43-.59-.52 0-1.04.2-1.43.59L10.3 9.45l-7.72 7.72c-.78.78-.78 2.05 0 2.83L4 21.41c.39.39.9.59 1.41.59.51 0 1.02-.2 1.41-.59l7.78-7.78 2.81-2.81c.8-.78.8-2.07 0-2.86zM5.41 20L4 18.59l7.72-7.72 1.47 1.35L5.41 20z\"/>\n",
              "  </svg>\n",
              "      </button>\n",
              "      \n",
              "  <style>\n",
              "    .colab-df-container {\n",
              "      display:flex;\n",
              "      flex-wrap:wrap;\n",
              "      gap: 12px;\n",
              "    }\n",
              "\n",
              "    .colab-df-convert {\n",
              "      background-color: #E8F0FE;\n",
              "      border: none;\n",
              "      border-radius: 50%;\n",
              "      cursor: pointer;\n",
              "      display: none;\n",
              "      fill: #1967D2;\n",
              "      height: 32px;\n",
              "      padding: 0 0 0 0;\n",
              "      width: 32px;\n",
              "    }\n",
              "\n",
              "    .colab-df-convert:hover {\n",
              "      background-color: #E2EBFA;\n",
              "      box-shadow: 0px 1px 2px rgba(60, 64, 67, 0.3), 0px 1px 3px 1px rgba(60, 64, 67, 0.15);\n",
              "      fill: #174EA6;\n",
              "    }\n",
              "\n",
              "    [theme=dark] .colab-df-convert {\n",
              "      background-color: #3B4455;\n",
              "      fill: #D2E3FC;\n",
              "    }\n",
              "\n",
              "    [theme=dark] .colab-df-convert:hover {\n",
              "      background-color: #434B5C;\n",
              "      box-shadow: 0px 1px 3px 1px rgba(0, 0, 0, 0.15);\n",
              "      filter: drop-shadow(0px 1px 2px rgba(0, 0, 0, 0.3));\n",
              "      fill: #FFFFFF;\n",
              "    }\n",
              "  </style>\n",
              "\n",
              "      <script>\n",
              "        const buttonEl =\n",
              "          document.querySelector('#df-239c9455-1a53-4d6e-b103-bacd1ce94676 button.colab-df-convert');\n",
              "        buttonEl.style.display =\n",
              "          google.colab.kernel.accessAllowed ? 'block' : 'none';\n",
              "\n",
              "        async function convertToInteractive(key) {\n",
              "          const element = document.querySelector('#df-239c9455-1a53-4d6e-b103-bacd1ce94676');\n",
              "          const dataTable =\n",
              "            await google.colab.kernel.invokeFunction('convertToInteractive',\n",
              "                                                     [key], {});\n",
              "          if (!dataTable) return;\n",
              "\n",
              "          const docLinkHtml = 'Like what you see? Visit the ' +\n",
              "            '<a target=\"_blank\" href=https://colab.research.google.com/notebooks/data_table.ipynb>data table notebook</a>'\n",
              "            + ' to learn more about interactive tables.';\n",
              "          element.innerHTML = '';\n",
              "          dataTable['output_type'] = 'display_data';\n",
              "          await google.colab.output.renderOutput(dataTable, element);\n",
              "          const docLink = document.createElement('div');\n",
              "          docLink.innerHTML = docLinkHtml;\n",
              "          element.appendChild(docLink);\n",
              "        }\n",
              "      </script>\n",
              "    </div>\n",
              "  </div>\n",
              "  "
            ]
          },
          "metadata": {},
          "execution_count": 11
        }
      ]
    },
    {
      "cell_type": "markdown",
      "source": [
        "But we don't want to end up dealing with Boolean values, do we?"
      ],
      "metadata": {
        "id": "w6SSvx78O1FL"
      }
    },
    {
      "cell_type": "code",
      "source": [
        "data.isnull().sum() # so as not to deal with thousands of Boolean values but with a sum of them\n",
        "# we can see that pH, Sulfate and Trihalomethanes lack several hundreds values"
      ],
      "metadata": {
        "colab": {
          "base_uri": "https://localhost:8080/"
        },
        "id": "yPaI5BxQ2o1F",
        "outputId": "4bfc4323-e492-4cc5-b801-56c2abb26303"
      },
      "execution_count": 12,
      "outputs": [
        {
          "output_type": "execute_result",
          "data": {
            "text/plain": [
              "ph                 491\n",
              "Hardness             0\n",
              "Solids               0\n",
              "Chloramines          0\n",
              "Sulfate            781\n",
              "Conductivity         0\n",
              "Organic_carbon       0\n",
              "Trihalomethanes    162\n",
              "Turbidity            0\n",
              "Potability           0\n",
              "dtype: int64"
            ]
          },
          "metadata": {},
          "execution_count": 12
        }
      ]
    },
    {
      "cell_type": "markdown",
      "source": [
        "A quick visualisation of the Water Potability Distribution in the form of a barplot:\n"
      ],
      "metadata": {
        "id": "t-HVvaUR2_iF"
      }
    },
    {
      "cell_type": "markdown",
      "source": [
        "we can get rid of the NaN values:"
      ],
      "metadata": {
        "id": "jVxCJ9mTovkG"
      }
    },
    {
      "cell_type": "code",
      "source": [
        "data.dropna(inplace=True) #drop NaN values"
      ],
      "metadata": {
        "id": "ufNI08x-o3O3"
      },
      "execution_count": 13,
      "outputs": []
    },
    {
      "cell_type": "code",
      "source": [
        "data['Potability'].value_counts()"
      ],
      "metadata": {
        "colab": {
          "base_uri": "https://localhost:8080/"
        },
        "id": "l4j8UcL040r6",
        "outputId": "c16003f5-0eea-40cc-d292-2406e9e9a576"
      },
      "execution_count": 14,
      "outputs": [
        {
          "output_type": "execute_result",
          "data": {
            "text/plain": [
              "0    1200\n",
              "1     811\n",
              "Name: Potability, dtype: int64"
            ]
          },
          "metadata": {},
          "execution_count": 14
        }
      ]
    },
    {
      "cell_type": "code",
      "source": [
        "color = '#00b0fe' # set a light-water blue as an HEX color code\n",
        "sns.countplot(x=data[\"Potability\"], \n",
        "              color=color).set_title(\"Distribution of Drinkable Water\")"
      ],
      "metadata": {
        "colab": {
          "base_uri": "https://localhost:8080/",
          "height": 319
        },
        "id": "WqEi6OhQ3v5S",
        "outputId": "69c1d0d3-7dff-4ae7-8dfb-9edce59eab9a"
      },
      "execution_count": 15,
      "outputs": [
        {
          "output_type": "execute_result",
          "data": {
            "text/plain": [
              "Text(0.5, 1.0, 'Distribution of Drinkable Water')"
            ]
          },
          "metadata": {},
          "execution_count": 15
        },
        {
          "output_type": "display_data",
          "data": {
            "text/plain": [
              "<Figure size 432x288 with 1 Axes>"
            ],
            "image/png": "[encoded data removed]"
          },
          "metadata": {
            "needs_background": "light"
          }
        }
      ]
    },
    {
      "cell_type": "markdown",
      "source": [
        "## Data separation\n",
        "Let's define our X dataset as X and our y dataset as y; \n",
        "- the y column corresponds to the y-predicted (either 0 = non-potable, or 1 = potable) \n",
        "- and the independent variables correspond to the X dataset."
      ],
      "metadata": {
        "id": "QsLf1DTLPAvf"
      }
    },
    {
      "cell_type": "code",
      "source": [
        "X = data.iloc[:,:-1] # X DATASET\n",
        "print(X)"
      ],
      "metadata": {
        "colab": {
          "base_uri": "https://localhost:8080/"
        },
        "id": "YCYLa5-gONo4",
        "outputId": "34111d04-2805-4290-a7ee-62e02fad536a"
      },
      "execution_count": 16,
      "outputs": [
        {
          "output_type": "stream",
          "name": "stdout",
          "text": [
            "             ph    Hardness        Solids  Chloramines     Sulfate  \\\n",
            "3      8.316766  214.373394  22018.417441     8.059332  356.886136   \n",
            "4      9.092223  181.101509  17978.986339     6.546600  310.135738   \n",
            "5      5.584087  188.313324  28748.687739     7.544869  326.678363   \n",
            "6     10.223862  248.071735  28749.716544     7.513408  393.663396   \n",
            "7      8.635849  203.361523  13672.091764     4.563009  303.309771   \n",
            "...         ...         ...           ...          ...         ...   \n",
            "3267   8.989900  215.047358  15921.412018     6.297312  312.931022   \n",
            "3268   6.702547  207.321086  17246.920347     7.708117  304.510230   \n",
            "3269  11.491011   94.812545  37188.826022     9.263166  258.930600   \n",
            "3270   6.069616  186.659040  26138.780191     7.747547  345.700257   \n",
            "3271   4.668102  193.681735  47580.991603     7.166639  359.948574   \n",
            "\n",
            "      Conductivity  Organic_carbon  Trihalomethanes  Turbidity  \n",
            "3       363.266516       18.436524       100.341674   4.628771  \n",
            "4       398.410813       11.558279        31.997993   4.075075  \n",
            "5       280.467916        8.399735        54.917862   2.559708  \n",
            "6       283.651634       13.789695        84.603556   2.672989  \n",
            "7       474.607645       12.363817        62.798309   4.401425  \n",
            "...            ...             ...              ...        ...  \n",
            "3267    390.410231        9.899115        55.069304   4.613843  \n",
            "3268    329.266002       16.217303        28.878601   3.442983  \n",
            "3269    439.893618       16.172755        41.558501   4.369264  \n",
            "3270    415.886955       12.067620        60.419921   3.669712  \n",
            "3271    526.424171       13.894419        66.687695   4.435821  \n",
            "\n",
            "[2011 rows x 9 columns]\n"
          ]
        }
      ]
    },
    {
      "cell_type": "code",
      "source": [
        "X # better visualisation"
      ],
      "metadata": {
        "colab": {
          "base_uri": "https://localhost:8080/",
          "height": 424
        },
        "id": "9rH9BSPJQ4a3",
        "outputId": "3eb6cabe-7cd6-440d-83dd-6072184d35f2"
      },
      "execution_count": 17,
      "outputs": [
        {
          "output_type": "execute_result",
          "data": {
            "text/plain": [
              "             ph    Hardness        Solids  Chloramines     Sulfate  \\\n",
              "3      8.316766  214.373394  22018.417441     8.059332  356.886136   \n",
              "4      9.092223  181.101509  17978.986339     6.546600  310.135738   \n",
              "5      5.584087  188.313324  28748.687739     7.544869  326.678363   \n",
              "6     10.223862  248.071735  28749.716544     7.513408  393.663396   \n",
              "7      8.635849  203.361523  13672.091764     4.563009  303.309771   \n",
              "...         ...         ...           ...          ...         ...   \n",
              "3267   8.989900  215.047358  15921.412018     6.297312  312.931022   \n",
              "3268   6.702547  207.321086  17246.920347     7.708117  304.510230   \n",
              "3269  11.491011   94.812545  37188.826022     9.263166  258.930600   \n",
              "3270   6.069616  186.659040  26138.780191     7.747547  345.700257   \n",
              "3271   4.668102  193.681735  47580.991603     7.166639  359.948574   \n",
              "\n",
              "      Conductivity  Organic_carbon  Trihalomethanes  Turbidity  \n",
              "3       363.266516       18.436524       100.341674   4.628771  \n",
              "4       398.410813       11.558279        31.997993   4.075075  \n",
              "5       280.467916        8.399735        54.917862   2.559708  \n",
              "6       283.651634       13.789695        84.603556   2.672989  \n",
              "7       474.607645       12.363817        62.798309   4.401425  \n",
              "...            ...             ...              ...        ...  \n",
              "3267    390.410231        9.899115        55.069304   4.613843  \n",
              "3268    329.266002       16.217303        28.878601   3.442983  \n",
              "3269    439.893618       16.172755        41.558501   4.369264  \n",
              "3270    415.886955       12.067620        60.419921   3.669712  \n",
              "3271    526.424171       13.894419        66.687695   4.435821  \n",
              "\n",
              "[2011 rows x 9 columns]"
            ],
            "text/html": [
              "\n",
              "  <div id=\"df-f48492a6-ed16-4c3b-bef2-d7793ce2b67c\">\n",
              "    <div class=\"colab-df-container\">\n",
              "      <div>\n",
              "<style scoped>\n",
              "    .dataframe tbody tr th:only-of-type {\n",
              "        vertical-align: middle;\n",
              "    }\n",
              "\n",
              "    .dataframe tbody tr th {\n",
              "        vertical-align: top;\n",
              "    }\n",
              "\n",
              "    .dataframe thead th {\n",
              "        text-align: right;\n",
              "    }\n",
              "</style>\n",
              "<table border=\"1\" class=\"dataframe\">\n",
              "  <thead>\n",
              "    <tr style=\"text-align: right;\">\n",
              "      <th></th>\n",
              "      <th>ph</th>\n",
              "      <th>Hardness</th>\n",
              "      <th>Solids</th>\n",
              "      <th>Chloramines</th>\n",
              "      <th>Sulfate</th>\n",
              "      <th>Conductivity</th>\n",
              "      <th>Organic_carbon</th>\n",
              "      <th>Trihalomethanes</th>\n",
              "      <th>Turbidity</th>\n",
              "    </tr>\n",
              "  </thead>\n",
              "  <tbody>\n",
              "    <tr>\n",
              "      <th>3</th>\n",
              "      <td>8.316766</td>\n",
              "      <td>214.373394</td>\n",
              "      <td>22018.417441</td>\n",
              "      <td>8.059332</td>\n",
              "      <td>356.886136</td>\n",
              "      <td>363.266516</td>\n",
              "      <td>18.436524</td>\n",
              "      <td>100.341674</td>\n",
              "      <td>4.628771</td>\n",
              "    </tr>\n",
              "    <tr>\n",
              "      <th>4</th>\n",
              "      <td>9.092223</td>\n",
              "      <td>181.101509</td>\n",
              "      <td>17978.986339</td>\n",
              "      <td>6.546600</td>\n",
              "      <td>310.135738</td>\n",
              "      <td>398.410813</td>\n",
              "      <td>11.558279</td>\n",
              "      <td>31.997993</td>\n",
              "      <td>4.075075</td>\n",
              "    </tr>\n",
              "    <tr>\n",
              "      <th>5</th>\n",
              "      <td>5.584087</td>\n",
              "      <td>188.313324</td>\n",
              "      <td>28748.687739</td>\n",
              "      <td>7.544869</td>\n",
              "      <td>326.678363</td>\n",
              "      <td>280.467916</td>\n",
              "      <td>8.399735</td>\n",
              "      <td>54.917862</td>\n",
              "      <td>2.559708</td>\n",
              "    </tr>\n",
              "    <tr>\n",
              "      <th>6</th>\n",
              "      <td>10.223862</td>\n",
              "      <td>248.071735</td>\n",
              "      <td>28749.716544</td>\n",
              "      <td>7.513408</td>\n",
              "      <td>393.663396</td>\n",
              "      <td>283.651634</td>\n",
              "      <td>13.789695</td>\n",
              "      <td>84.603556</td>\n",
              "      <td>2.672989</td>\n",
              "    </tr>\n",
              "    <tr>\n",
              "      <th>7</th>\n",
              "      <td>8.635849</td>\n",
              "      <td>203.361523</td>\n",
              "      <td>13672.091764</td>\n",
              "      <td>4.563009</td>\n",
              "      <td>303.309771</td>\n",
              "      <td>474.607645</td>\n",
              "      <td>12.363817</td>\n",
              "      <td>62.798309</td>\n",
              "      <td>4.401425</td>\n",
              "    </tr>\n",
              "    <tr>\n",
              "      <th>...</th>\n",
              "      <td>...</td>\n",
              "      <td>...</td>\n",
              "      <td>...</td>\n",
              "      <td>...</td>\n",
              "      <td>...</td>\n",
              "      <td>...</td>\n",
              "      <td>...</td>\n",
              "      <td>...</td>\n",
              "      <td>...</td>\n",
              "    </tr>\n",
              "    <tr>\n",
              "      <th>3267</th>\n",
              "      <td>8.989900</td>\n",
              "      <td>215.047358</td>\n",
              "      <td>15921.412018</td>\n",
              "      <td>6.297312</td>\n",
              "      <td>312.931022</td>\n",
              "      <td>390.410231</td>\n",
              "      <td>9.899115</td>\n",
              "      <td>55.069304</td>\n",
              "      <td>4.613843</td>\n",
              "    </tr>\n",
              "    <tr>\n",
              "      <th>3268</th>\n",
              "      <td>6.702547</td>\n",
              "      <td>207.321086</td>\n",
              "      <td>17246.920347</td>\n",
              "      <td>7.708117</td>\n",
              "      <td>304.510230</td>\n",
              "      <td>329.266002</td>\n",
              "      <td>16.217303</td>\n",
              "      <td>28.878601</td>\n",
              "      <td>3.442983</td>\n",
              "    </tr>\n",
              "    <tr>\n",
              "      <th>3269</th>\n",
              "      <td>11.491011</td>\n",
              "      <td>94.812545</td>\n",
              "      <td>37188.826022</td>\n",
              "      <td>9.263166</td>\n",
              "      <td>258.930600</td>\n",
              "      <td>439.893618</td>\n",
              "      <td>16.172755</td>\n",
              "      <td>41.558501</td>\n",
              "      <td>4.369264</td>\n",
              "    </tr>\n",
              "    <tr>\n",
              "      <th>3270</th>\n",
              "      <td>6.069616</td>\n",
              "      <td>186.659040</td>\n",
              "      <td>26138.780191</td>\n",
              "      <td>7.747547</td>\n",
              "      <td>345.700257</td>\n",
              "      <td>415.886955</td>\n",
              "      <td>12.067620</td>\n",
              "      <td>60.419921</td>\n",
              "      <td>3.669712</td>\n",
              "    </tr>\n",
              "    <tr>\n",
              "      <th>3271</th>\n",
              "      <td>4.668102</td>\n",
              "      <td>193.681735</td>\n",
              "      <td>47580.991603</td>\n",
              "      <td>7.166639</td>\n",
              "      <td>359.948574</td>\n",
              "      <td>526.424171</td>\n",
              "      <td>13.894419</td>\n",
              "      <td>66.687695</td>\n",
              "      <td>4.435821</td>\n",
              "    </tr>\n",
              "  </tbody>\n",
              "</table>\n",
              "<p>2011 rows × 9 columns</p>\n",
              "</div>\n",
              "      <button class=\"colab-df-convert\" onclick=\"convertToInteractive('df-f48492a6-ed16-4c3b-bef2-d7793ce2b67c')\"\n",
              "              title=\"Convert this dataframe to an interactive table.\"\n",
              "              style=\"display:none;\">\n",
              "        \n",
              "  <svg xmlns=\"http://www.w3.org/2000/svg\" height=\"24px\"viewBox=\"0 0 24 24\"\n",
              "       width=\"24px\">\n",
              "    <path d=\"M0 0h24v24H0V0z\" fill=\"none\"/>\n",
              "    <path d=\"M18.56 5.44l.94 2.06.94-2.06 2.06-.94-2.06-.94-.94-2.06-.94 2.06-2.06.94zm-11 1L8.5 8.5l.94-2.06 2.06-.94-2.06-.94L8.5 2.5l-.94 2.06-2.06.94zm10 10l.94 2.06.94-2.06 2.06-.94-2.06-.94-.94-2.06-.94 2.06-2.06.94z\"/><path d=\"M17.41 7.96l-1.37-1.37c-.4-.4-.92-.59-1.43-.59-.52 0-1.04.2-1.43.59L10.3 9.45l-7.72 7.72c-.78.78-.78 2.05 0 2.83L4 21.41c.39.39.9.59 1.41.59.51 0 1.02-.2 1.41-.59l7.78-7.78 2.81-2.81c.8-.78.8-2.07 0-2.86zM5.41 20L4 18.59l7.72-7.72 1.47 1.35L5.41 20z\"/>\n",
              "  </svg>\n",
              "      </button>\n",
              "      \n",
              "  <style>\n",
              "    .colab-df-container {\n",
              "      display:flex;\n",
              "      flex-wrap:wrap;\n",
              "      gap: 12px;\n",
              "    }\n",
              "\n",
              "    .colab-df-convert {\n",
              "      background-color: #E8F0FE;\n",
              "      border: none;\n",
              "      border-radius: 50%;\n",
              "      cursor: pointer;\n",
              "      display: none;\n",
              "      fill: #1967D2;\n",
              "      height: 32px;\n",
              "      padding: 0 0 0 0;\n",
              "      width: 32px;\n",
              "    }\n",
              "\n",
              "    .colab-df-convert:hover {\n",
              "      background-color: #E2EBFA;\n",
              "      box-shadow: 0px 1px 2px rgba(60, 64, 67, 0.3), 0px 1px 3px 1px rgba(60, 64, 67, 0.15);\n",
              "      fill: #174EA6;\n",
              "    }\n",
              "\n",
              "    [theme=dark] .colab-df-convert {\n",
              "      background-color: #3B4455;\n",
              "      fill: #D2E3FC;\n",
              "    }\n",
              "\n",
              "    [theme=dark] .colab-df-convert:hover {\n",
              "      background-color: #434B5C;\n",
              "      box-shadow: 0px 1px 3px 1px rgba(0, 0, 0, 0.15);\n",
              "      filter: drop-shadow(0px 1px 2px rgba(0, 0, 0, 0.3));\n",
              "      fill: #FFFFFF;\n",
              "    }\n",
              "  </style>\n",
              "\n",
              "      <script>\n",
              "        const buttonEl =\n",
              "          document.querySelector('#df-f48492a6-ed16-4c3b-bef2-d7793ce2b67c button.colab-df-convert');\n",
              "        buttonEl.style.display =\n",
              "          google.colab.kernel.accessAllowed ? 'block' : 'none';\n",
              "\n",
              "        async function convertToInteractive(key) {\n",
              "          const element = document.querySelector('#df-f48492a6-ed16-4c3b-bef2-d7793ce2b67c');\n",
              "          const dataTable =\n",
              "            await google.colab.kernel.invokeFunction('convertToInteractive',\n",
              "                                                     [key], {});\n",
              "          if (!dataTable) return;\n",
              "\n",
              "          const docLinkHtml = 'Like what you see? Visit the ' +\n",
              "            '<a target=\"_blank\" href=https://colab.research.google.com/notebooks/data_table.ipynb>data table notebook</a>'\n",
              "            + ' to learn more about interactive tables.';\n",
              "          element.innerHTML = '';\n",
              "          dataTable['output_type'] = 'display_data';\n",
              "          await google.colab.output.renderOutput(dataTable, element);\n",
              "          const docLink = document.createElement('div');\n",
              "          docLink.innerHTML = docLinkHtml;\n",
              "          element.appendChild(docLink);\n",
              "        }\n",
              "      </script>\n",
              "    </div>\n",
              "  </div>\n",
              "  "
            ]
          },
          "metadata": {},
          "execution_count": 17
        }
      ]
    },
    {
      "cell_type": "markdown",
      "source": [],
      "metadata": {
        "id": "IStZzxyypl0U"
      }
    },
    {
      "cell_type": "markdown",
      "source": [
        "So we can see that, after having dropped the NaN values, our dataset drops to 2011 rows x 9 columns"
      ],
      "metadata": {
        "id": "dyCkSrg2pk17"
      }
    },
    {
      "cell_type": "code",
      "source": [
        "y = data.iloc[:,-1] # y set\n",
        "print('y dataset is:\\n',\n",
        "y)"
      ],
      "metadata": {
        "colab": {
          "base_uri": "https://localhost:8080/"
        },
        "id": "K8u1y0zaQ9Ir",
        "outputId": "cdaf7df2-4cee-4cd5-a40b-06eac56433e5"
      },
      "execution_count": 18,
      "outputs": [
        {
          "output_type": "stream",
          "name": "stdout",
          "text": [
            "y dataset is:\n",
            " 3       0\n",
            "4       0\n",
            "5       0\n",
            "6       0\n",
            "7       0\n",
            "       ..\n",
            "3267    1\n",
            "3268    1\n",
            "3269    1\n",
            "3270    1\n",
            "3271    1\n",
            "Name: Potability, Length: 2011, dtype: int64\n"
          ]
        }
      ]
    },
    {
      "cell_type": "code",
      "source": [
        "#print('y[0]=:\\n', y[0],'\\n')\n",
        "     # 'y[1]=:\\n', y[1],'\\n')\n",
        "     # 'y[2]=:\\n', y[2],'\\n',\n",
        "     # 'y[3]=:\\n', y[3],'\\n')\n",
        "     # 'y[4]=:\\n', y[4],'\\n')\n",
        "     # 'y[5]=:\\n', y[5],'\\n')\n",
        "     # 'y[6]=:\\n', y[6],'\\n',\n",
        "      #'y[7]=:\\n', y[7],'\\n',\n",
        "      #'y[8]=:\\n', y[8]) # visualize y "
      ],
      "metadata": {
        "id": "tox9V2VARKe7"
      },
      "execution_count": 19,
      "outputs": []
    },
    {
      "cell_type": "markdown",
      "source": [
        "separation in train, validation and test sets"
      ],
      "metadata": {
        "id": "sQJYNHSkRqdR"
      }
    },
    {
      "cell_type": "code",
      "source": [
        "#############################################################################################################################################\n",
        "# 1. Split the data into training set and validation-test set. Set the size of the training set to be 80%\n",
        "#############################################################################################################################################\n",
        "Xtrain_val, Xtest, ytrain_val, ytest = train_test_split(X, y, \n",
        "                                                train_size=0.8,        # 80% included in train set=1407\n",
        "                                                test_size=0.2,         # 20% included in the test set=403\n",
        "                                                random_state=rnd_seed, # random state set to 42\n",
        "                                                shuffle = True)        # shuffle through the dataset "
      ],
      "metadata": {
        "id": "MkY32MjYRp-2"
      },
      "execution_count": 20,
      "outputs": []
    },
    {
      "cell_type": "code",
      "source": [
        "#############################################################################################################################################\n",
        "# 2. Split the validation-test set into validation set and test set. Set the size of the test set to be 80%\n",
        "#############################################################################################################################################\n",
        "Xtrain, Xval, ytrain, yval = train_test_split(Xtrain_val, ytrain_val, \n",
        "                                                train_size=0.8,        # 80% included in train set=1407\n",
        "                                                test_size=0.2,         # 20% included in the test set=403\n",
        "                                                random_state=rnd_seed, # random state set to 42\n",
        "                                                shuffle = True)        # shuffle through the dataset"
      ],
      "metadata": {
        "id": "YDHiVvHV4y76"
      },
      "execution_count": 21,
      "outputs": []
    },
    {
      "cell_type": "markdown",
      "source": [
        "We can standardize the training and testing datasets with standardscaler:"
      ],
      "metadata": {
        "id": "kCQBNNTD3QKX"
      }
    },
    {
      "cell_type": "code",
      "source": [
        "# that way we'll have a mean of 0 and a STD of 1\n",
        "from sklearn import preprocessing\n",
        "scaler  = preprocessing.StandardScaler() # instantiation\n",
        "X_train = scaler.fit_transform(Xtrain)\n",
        "X_test  = scaler.fit_transform(Xtest)"
      ],
      "metadata": {
        "id": "Qqz_MeDd3ZBn"
      },
      "execution_count": 22,
      "outputs": []
    },
    {
      "cell_type": "code",
      "source": [
        "print('X train set:\\n ',\n",
        "      Xtrain.shape,'\\n',\n",
        "      'X test set:\\n',\n",
        "      Xtest.shape,'\\n',\n",
        "      'y train set:\\n',\n",
        "      ytrain.shape,'\\n',\n",
        "      'y test set:\\n',\n",
        "      ytest.shape)"
      ],
      "metadata": {
        "colab": {
          "base_uri": "https://localhost:8080/"
        },
        "id": "c2tnOh834Jyf",
        "outputId": "ea5a840e-e5b3-4979-b4f3-99a45c92f84f"
      },
      "execution_count": 23,
      "outputs": [
        {
          "output_type": "stream",
          "name": "stdout",
          "text": [
            "X train set:\n",
            "  (1286, 9) \n",
            " X test set:\n",
            " (403, 9) \n",
            " y train set:\n",
            " (1286,) \n",
            " y test set:\n",
            " (403,)\n"
          ]
        }
      ]
    },
    {
      "cell_type": "markdown",
      "source": [],
      "metadata": {
        "id": "31UYkX2H3P3P"
      }
    },
    {
      "cell_type": "markdown",
      "source": [
        "1) Now that the data have been split already, what we're trying to do is to train a logistic regression model, as well as a RF classifier to see which of them best fits during training and accuracy testing."
      ],
      "metadata": {
        "id": "GVC07RtSKATI"
      }
    },
    {
      "cell_type": "markdown",
      "source": [
        "*1.1) Initiate the classifier Random Forest:*"
      ],
      "metadata": {
        "id": "2_OsswUsRY-q"
      }
    },
    {
      "cell_type": "code",
      "source": [
        "from sklearn.ensemble import RandomForestClassifier\n",
        "# Initiate Classifiers\n",
        "rfc = RandomForestClassifier() # RF classifier instantiated"
      ],
      "metadata": {
        "id": "C3I86QrG9Lcr"
      },
      "execution_count": 24,
      "outputs": []
    },
    {
      "cell_type": "markdown",
      "source": [
        "*1.2) Then fit the classifier to the training data*"
      ],
      "metadata": {
        "id": "feNJskP8SCLO"
      }
    },
    {
      "cell_type": "code",
      "source": [
        "rfc.fit(X_train, ytrain)"
      ],
      "metadata": {
        "colab": {
          "base_uri": "https://localhost:8080/"
        },
        "id": "0l-BksNy9LaM",
        "outputId": "29c2ca81-ce84-4665-eb29-4fde2fc6eeba"
      },
      "execution_count": 25,
      "outputs": [
        {
          "output_type": "execute_result",
          "data": {
            "text/plain": [
              "RandomForestClassifier()"
            ]
          },
          "metadata": {},
          "execution_count": 25
        }
      ]
    },
    {
      "cell_type": "code",
      "source": [
        "# Import accuracy_score module from sklearn:------------------------------------\n",
        "from sklearn.metrics import accuracy_score\n",
        "\n",
        "# Then we can use the trained classifiers to make predictions on the validation set:\n",
        "rfc_pred = rfc.predict(Xval)        # validation data\n",
        "#------------------------------ on the test data--------------------------------\n",
        "rfc_preds_test = rfc.predict(Xtest) # on test set (see section 1.3)\n",
        "\n",
        "###################################################################################################################\n",
        "# Use accuracy_score() to see if our models can successfully classify the validation data:\n",
        "rfc_acc = accuracy_score(yval, rfc_pred)             # (y_true, y_pred, *, normalize=True, sample_weight=None)\n",
        "rfc_acc_test = accuracy_score(ytest, rfc_preds_test) # accuracy on the test set RF\n",
        "\n",
        "print(f\"The RF classifier Model Accuracy on Validation set is: {rfc_acc:.2%}\")\n",
        "print(f\"The RF classifier Model Accuracy on Test set is: {rfc_acc_test:.2%}\")"
      ],
      "metadata": {
        "colab": {
          "base_uri": "https://localhost:8080/"
        },
        "id": "IaFHw7Wg9LXG",
        "outputId": "2b3bb552-2782-4997-f48a-c069121bcc99"
      },
      "execution_count": 26,
      "outputs": [
        {
          "output_type": "stream",
          "name": "stdout",
          "text": [
            "The RF classifier Model Accuracy on Validation set is: 58.39%\n",
            "The RF classifier Model Accuracy on Test set is: 57.32%\n"
          ]
        },
        {
          "output_type": "stream",
          "name": "stderr",
          "text": [
            "/usr/local/lib/python3.8/dist-packages/sklearn/base.py:443: UserWarning: X has feature names, but RandomForestClassifier was fitted without feature names\n",
            "  warnings.warn(\n",
            "/usr/local/lib/python3.8/dist-packages/sklearn/base.py:443: UserWarning: X has feature names, but RandomForestClassifier was fitted without feature names\n",
            "  warnings.warn(\n"
          ]
        }
      ]
    },
    {
      "cell_type": "markdown",
      "source": [
        "*1.2.1) we can combine the classifiers into an ensemble that outperforms them all on the validation set, using a soft or hard voting classifier.*"
      ],
      "metadata": {
        "id": "qIfxpWlDh3oM"
      }
    },
    {
      "cell_type": "code",
      "source": [
        "from sklearn.ensemble import VotingClassifier\n",
        "################################ and define them ###############################\n",
        "vc_hard = VotingClassifier(estimators=[('rf',rfc)  # 'rf' standing for randomForest; \n",
        "                                       ], \n",
        "                           voting='hard')          # Hard Voting\n",
        "                           #-----------------------#----------------------------\n",
        "vc_soft = VotingClassifier(estimators=[('rf',rfc)  # Random forest \n",
        "                                       ], \n",
        "                           voting='soft')          # soft voting"
      ],
      "metadata": {
        "id": "st88ATWy9LUC"
      },
      "execution_count": 27,
      "outputs": []
    },
    {
      "cell_type": "markdown",
      "source": [
        "*1.2.2) Then evaluate them on train set, calculate their prediction and estimate their accuracy*"
      ],
      "metadata": {
        "id": "sjiYqDAJi89m"
      }
    },
    {
      "cell_type": "code",
      "source": [
        "################################        (1)      ###############################\n",
        "# train voting classifiers------------------------------------------------------\n",
        "vc_soft.fit(X_train, ytrain)             # soft voting\n",
        "vc_hard.fit(X_train, ytrain)             # hard voting\n",
        "\n",
        "################################        (2)      ###############################\n",
        "# Evaluate classifier performance on validation set. The evaluation will be based on accuracy_score(), similar to previous notebooks.\n",
        "vc_soft_preds = vc_soft.predict(Xval) # predict on train values\n",
        "vc_hard_preds = vc_hard.predict(Xval) # idem\n",
        "\n",
        "################################        (3)      ###############################\n",
        "# Calculate your accuracy scores here.\n",
        "vc_soft_acc = accuracy_score(yval, vc_soft_preds)  # (ytrue, ypred)\n",
        "vc_hard_acc = accuracy_score(yval, vc_hard_preds)  # (ytrue, ypred)\n",
        "\n",
        "print('our soft-voting classifier did a score of:\\n',\n",
        "      vc_soft_acc,' *100 = ',100*vc_soft_acc,'%.')\n",
        "print('our hard-voting classifier did a score of:\\n',\n",
        "      vc_hard_acc,'*100 =', 100*vc_hard_acc,'%.')\n",
        "  "
      ],
      "metadata": {
        "colab": {
          "base_uri": "https://localhost:8080/"
        },
        "id": "0QLyM4in9LSF",
        "outputId": "ee2fe5ba-3a0d-4560-a3b3-19baae74fd7a"
      },
      "execution_count": 28,
      "outputs": [
        {
          "output_type": "stream",
          "name": "stdout",
          "text": [
            "our soft-voting classifier did a score of:\n",
            " 0.5838509316770186  *100 =  58.38509316770186 %.\n",
            "our hard-voting classifier did a score of:\n",
            " 0.5838509316770186 *100 = 58.38509316770186 %.\n"
          ]
        },
        {
          "output_type": "stream",
          "name": "stderr",
          "text": [
            "/usr/local/lib/python3.8/dist-packages/sklearn/base.py:443: UserWarning: X has feature names, but RandomForestClassifier was fitted without feature names\n",
            "  warnings.warn(\n",
            "/usr/local/lib/python3.8/dist-packages/sklearn/base.py:443: UserWarning: X has feature names, but RandomForestClassifier was fitted without feature names\n",
            "  warnings.warn(\n"
          ]
        }
      ]
    },
    {
      "cell_type": "markdown",
      "source": [
        "*1.3) Let's see what the ensemble does when trained on the test set and see if it outperforms the classifiers. We'll get our Test Accuracy in the end.*"
      ],
      "metadata": {
        "id": "POkPM7Iaqi_x"
      }
    },
    {
      "cell_type": "code",
      "source": [
        "# \n",
        "################################################################################\n",
        "# Individual Classifier predictions\n",
        "################################################################################ \n",
        "rfc_preds_test = rfc.predict(X_test) # random forest classifier\n",
        "\n",
        "################################################################################\n",
        "# Voting Classifier predictions\n",
        "################################################################################ \n",
        "vc_soft_preds_test = vc_soft.predict(X_test)\n",
        "vc_hard_preds_test = vc_hard.predict(X_test)\n",
        "################################################################################\n",
        "# Compare accuracy scores\n",
        "################################################################################ \n",
        "vc_soft_acc_test = accuracy_score(ytest, vc_soft_preds_test) # accuracy on the test set soft-voting\n",
        "vc_hard_acc_test = accuracy_score(ytest, vc_hard_preds_test) # accuracy on the test set hard-voting\n",
        "rfc_acc_test     = accuracy_score(ytest, rfc_preds_test)     # accuracy on the test set RF\n",
        "\n",
        "\n",
        "print(\"VC soft accuracy score is:\\n\", \n",
        "      vc_soft_acc_test, ' *100 = ',100*vc_soft_acc_test,'%.')\n",
        "print(\"VC hard accuracy score is:\\n:\", \n",
        "      vc_hard_acc_test, ' *100 = ',100*vc_hard_acc_test,'%.')\n",
        "print(\"RandomForest accuracy score is:\\n \", \n",
        "      rfc_acc_test, ' *100 = ',100*rfc_acc_test,'%.')"
      ],
      "metadata": {
        "colab": {
          "base_uri": "https://localhost:8080/"
        },
        "id": "tkMc-nLH9LNd",
        "outputId": "1ffde65a-4c22-4307-b2b7-b8a01f62d169"
      },
      "execution_count": 29,
      "outputs": [
        {
          "output_type": "stream",
          "name": "stdout",
          "text": [
            "VC soft accuracy score is:\n",
            " 0.6550868486352357  *100 =  65.50868486352357 %.\n",
            "VC hard accuracy score is:\n",
            ": 0.6575682382133995  *100 =  65.75682382133995 %.\n",
            "RandomForest accuracy score is:\n",
            "  0.6550868486352357  *100 =  65.50868486352357 %.\n"
          ]
        }
      ]
    },
    {
      "cell_type": "code",
      "source": [
        "from matplotlib import pyplot as plt\n",
        "import matplotlib.pyplot as plt\n",
        "\n",
        "# define the model\n",
        "rfc = RandomForestClassifier()\n",
        "# fit the model\n",
        "rfc.fit(Xtrain, ytrain)\n",
        "# get importance\n",
        "importance = rfc.feature_importances_\n",
        "std = np.std([tree.feature_importances_ for tree in rfc.estimators_], axis=0)\n",
        "\n",
        "feature_names = [f\" {i}\" for i in data.columns.values.tolist()[:-1]]\n",
        "forest_importances = pd.Series(importance,\n",
        "                               index= feature_names)\n",
        "\n",
        "#------------------------------- visualization----------------------------------\n",
        "fig, ax = plt.subplots()\n",
        "forest_importances.plot.bar(yerr=std, ax=ax)\n",
        "ax.set_title(\"Feature importances using MDI\")\n",
        "ax.set_ylabel(\"Importance\")\n",
        "fig.tight_layout()"
      ],
      "metadata": {
        "colab": {
          "base_uri": "https://localhost:8080/",
          "height": 297
        },
        "id": "W9Uw8V_Sq3pI",
        "outputId": "34662177-b0a2-4e77-c181-0611a876ca26"
      },
      "execution_count": 30,
      "outputs": [
        {
          "output_type": "display_data",
          "data": {
            "text/plain": [
              "<Figure size 432x288 with 1 Axes>"
            ],
            "image/png": "[encoded data removed]"
          },
          "metadata": {
            "needs_background": "light"
          }
        }
      ]
    },
    {
      "cell_type": "markdown",
      "source": [
        "2) Logistic Regression "
      ],
      "metadata": {
        "id": "SNydcSIKxGBv"
      }
    },
    {
      "cell_type": "markdown",
      "source": [
        "*2.1.) Use of Logistic Regression without hyperparameters fine-tuning*"
      ],
      "metadata": {
        "id": "tJwg6svcxFym"
      }
    },
    {
      "cell_type": "code",
      "source": [
        "#let's browse through log regression:\n",
        "#  sklearn.linear_model.LogisticRegression(penalty='l2', *, \n",
        "#dual=False, tol=0.0001, C=1.0, fit_intercept=True, intercept_scaling=1,\n",
        "# class_weight=None, random_state=None, solver='lbfgs', max_iter=100,\n",
        "# multi_class='auto', verbose=0, warm_start=False, n_jobs=None, l1_ratio=None)\n",
        "from sklearn.linear_model import LogisticRegression\n",
        "\n",
        "# ------------------------------ instantiation ---------------------------------\n",
        "log_reg = LogisticRegression()\n",
        "# ------------------------------ fitting ---------------------------------------\n",
        "log_reg.fit(X_train, ytrain) \n",
        "# ------------------------------ predict ---------------------------------------\n",
        "ypred = log_reg.predict(X_test)\n",
        "# ------------------------------ accuracy --------------------------------------\n",
        "print(\"The logistic regression classifier's accuracy on test set is: {:.2f}\".format(log_reg.score(X_test, ytest)))\n",
        "print(\"The logistic regression classifier's accuracy on validate set is: {:.2f}\".format(log_reg.score(Xtrain_val, ytrain_val)))\n",
        "print(\"The logistic regression classifier's accuracy on train set is: {:.2f}\".format(log_reg.score(X_train, ytrain)))\n",
        "\n",
        "# let's print the accuracy score ...\n",
        "log_acc = accuracy_score(ytest, ypred)  # Feed in the truth and predictions\n",
        "\n",
        "print(f\"Logistic Regression Model Accuracy is: {log_acc:.2%}\")\n"
      ],
      "metadata": {
        "colab": {
          "base_uri": "https://localhost:8080/"
        },
        "id": "0gKnqFGZ9LLc",
        "outputId": "cf520654-89ae-46e5-91ba-2c385a9d84d8"
      },
      "execution_count": 31,
      "outputs": [
        {
          "output_type": "stream",
          "name": "stdout",
          "text": [
            "The logistic regression classifier's accuracy on test set is: 0.58\n",
            "The logistic regression classifier's accuracy on validate set is: 0.40\n",
            "The logistic regression classifier's accuracy on train set is: 0.61\n",
            "Logistic Regression Model Accuracy is: 57.57%\n"
          ]
        },
        {
          "output_type": "stream",
          "name": "stderr",
          "text": [
            "/usr/local/lib/python3.8/dist-packages/sklearn/base.py:443: UserWarning: X has feature names, but LogisticRegression was fitted without feature names\n",
            "  warnings.warn(\n"
          ]
        }
      ]
    },
    {
      "cell_type": "markdown",
      "source": [
        "*2.2.) Use of Logistic Regression with best hyperparameters fine-tuning*"
      ],
      "metadata": {
        "id": "6gRmy4yvdCqG"
      }
    },
    {
      "cell_type": "markdown",
      "source": [
        "It is indeed more accurate to rely on a model upon which chosen hyperparameters have been fine-tuned. This will help the algorithm work best (hopefully) for the type of data at our disposal.\n",
        "Thus we have decided to use GridSearchCV, which helps for a better grasping of the hyperparameters by applying the trial-and-error method that will chose from all combinations, the the best HP value when testing (using k-folds cross-validation).\n",
        "\n",
        "It will cross-validate through our data while testing and training. To do so we can create a parameter dictionary containing all different HP we want the model to try when fitting.Lee(2021) provided very good illustration and understanding relative to binary classification issues.\n",
        "  "
      ],
      "metadata": {
        "id": "EOVJHIhTgl0t"
      }
    },
    {
      "cell_type": "code",
      "source": [
        "from sklearn.model_selection import GridSearchCV\n",
        "import warnings\n",
        "warnings.filterwarnings('ignore')\n",
        "# ------------------------------ parameter grid --------------------------------------\n",
        "parameters = {\n",
        "    'penalty' : ['l1','l2'],                         # using the various HP possible\n",
        "    'C'       : np.logspace(-3,3,7),                 # C = inverse of regularistion strength--> the smaller C, the stronger the regularisation\n",
        "    'solver'  : ['newton-cg', 'lbfgs', 'liblinear'], # algorithm used with optimization\n",
        "}"
      ],
      "metadata": {
        "id": "__O7Wkjb9LH_"
      },
      "execution_count": 32,
      "outputs": []
    },
    {
      "cell_type": "code",
      "source": [
        "log_reg2 = LogisticRegression()               # instantiation (as beforhand)\n",
        "\n",
        "clf = GridSearchCV(log_reg2,                  # the model used\n",
        "                   param_grid = parameters,   # the different possible hyperparameters \n",
        "                   scoring='accuracy',        # metric for scoring ==> the expected outcome\n",
        "                   cv=10)                     # number of folds (k-fold)\n",
        "\n",
        "\n",
        "#then comes the same basic methodology...\n",
        "# ------------------------------ fitting ---------------------------------------\n",
        "clf.fit(X_train, ytrain)\n",
        "# ------------------------------ print out best HP -----------------------------\n",
        "print(\"Tuned Hyperparameters are :\", \n",
        "      clf.best_params_) # using .best_params\n",
        "# ------------------------------ print training accuracy  ---------------------------------------\n",
        "print(\"Accuracy is :\",\n",
        "      clf.best_score_*100,'%')  # using .best_score"
      ],
      "metadata": {
        "colab": {
          "base_uri": "https://localhost:8080/"
        },
        "id": "yFfcvTRA9LF3",
        "outputId": "e4ffea03-6dca-4463-acae-b76e2656368e"
      },
      "execution_count": 33,
      "outputs": [
        {
          "output_type": "stream",
          "name": "stdout",
          "text": [
            "Tuned Hyperparameters are : {'C': 10.0, 'penalty': 'l2', 'solver': 'liblinear'}\n",
            "Accuracy is : 61.35295542635658 %\n"
          ]
        }
      ]
    },
    {
      "cell_type": "code",
      "source": [
        "# now we can apply the HP to the log regression as GridSearchCV suggested:\n",
        "# Tuned Hyperparameters are : {'C': 10.0, 'penalty': 'l2', 'solver': 'liblinear'}==> we get a higher accuracy by putting exactly\n",
        "# other hyperparameters... GREAT!\n",
        "log_reg2 = LogisticRegression(C = 0.1,                # inverse of regularization, let's not trust the model and put 0.1 instead\n",
        "                            penalty = 'l2',           # penalty (essentially supposed to be l1)\n",
        "                            solver = 'newton-cg')     # solver (essentially supposed to be liblinear)\n",
        "                            #-------#\n",
        "log_reg2.fit(X_train,ytrain)                          # fitting\n",
        "y_pred2 = log_reg2.predict(X_test)                    # predicting\n",
        "print(\"The Logistic Regression algorithm has an accuracy of \",\n",
        "      log_reg2.score(X_test, ytest)*100,\n",
        "      '%')                                             # accuracy estimating"
      ],
      "metadata": {
        "colab": {
          "base_uri": "https://localhost:8080/"
        },
        "id": "dhILg_Ap9LDY",
        "outputId": "4a4526e1-5ca0-4fda-bf23-fa6d69c9893c"
      },
      "execution_count": 34,
      "outputs": [
        {
          "output_type": "stream",
          "name": "stdout",
          "text": [
            "The Logistic Regression algorithm has an accuracy of  57.5682382133995 %\n"
          ]
        }
      ]
    },
    {
      "cell_type": "markdown",
      "source": [
        "*2.3)Let's visualize the confusion matrix now for Logistic Regression...*"
      ],
      "metadata": {
        "id": "8X7YD6eHc4uW"
      }
    },
    {
      "cell_type": "code",
      "source": [
        "from sklearn.metrics import classification_report\n",
        "print('Classification report for Log reg without HP:\\n',\n",
        "      classification_report(ytest,ypred))\n",
        "print('Classification report for Log reg with HP:\\n',\n",
        "      classification_report(ytest,y_pred2))"
      ],
      "metadata": {
        "colab": {
          "base_uri": "https://localhost:8080/"
        },
        "id": "ozugo4V89LA3",
        "outputId": "d8cf087d-c985-423e-ce66-5923358fa07c"
      },
      "execution_count": 35,
      "outputs": [
        {
          "output_type": "stream",
          "name": "stdout",
          "text": [
            "Classification report for Log reg without HP:\n",
            "               precision    recall  f1-score   support\n",
            "\n",
            "           0       0.58      0.99      0.73       231\n",
            "           1       0.60      0.02      0.03       172\n",
            "\n",
            "    accuracy                           0.58       403\n",
            "   macro avg       0.59      0.50      0.38       403\n",
            "weighted avg       0.59      0.58      0.43       403\n",
            "\n",
            "Classification report for Log reg with HP:\n",
            "               precision    recall  f1-score   support\n",
            "\n",
            "           0       0.58      0.99      0.73       231\n",
            "           1       0.60      0.02      0.03       172\n",
            "\n",
            "    accuracy                           0.58       403\n",
            "   macro avg       0.59      0.50      0.38       403\n",
            "weighted avg       0.59      0.58      0.43       403\n",
            "\n"
          ]
        }
      ]
    },
    {
      "cell_type": "code",
      "source": [
        "# define the model\n",
        "# model = LogisticRegression()\n",
        "# fit the model\n",
        "model.fit(X, y)\n",
        "# get importance\n",
        "importance = model.coef_[0]\n",
        "# summarize feature importance\n",
        "for i,v in enumerate(importance):\n",
        " print('Feature: %0d, Score: %.5f' % (i,v))\n",
        "# plot feature importance\n",
        "pyplot.bar([x for x in range(len(importance))], importance)\n",
        "pyplot.show()"
      ],
      "metadata": {
        "colab": {
          "base_uri": "https://localhost:8080/",
          "height": 236
        },
        "id": "KF7nDogI9K4i",
        "outputId": "8b3c1518-4c60-446a-f846-ca532f5e4bdf"
      },
      "execution_count": 36,
      "outputs": [
        {
          "output_type": "error",
          "ename": "NameError",
          "evalue": "ignored",
          "traceback": [
            "\u001b[0;31m---------------------------------------------------------------------------\u001b[0m",
            "\u001b[0;31mNameError\u001b[0m                                 Traceback (most recent call last)",
            "\u001b[0;32m<ipython-input-36-b046e5eed9a5>\u001b[0m in \u001b[0;36m<module>\u001b[0;34m\u001b[0m\n\u001b[1;32m      2\u001b[0m \u001b[0;31m# model = LogisticRegression()\u001b[0m\u001b[0;34m\u001b[0m\u001b[0;34m\u001b[0m\u001b[0;34m\u001b[0m\u001b[0m\n\u001b[1;32m      3\u001b[0m \u001b[0;31m# fit the model\u001b[0m\u001b[0;34m\u001b[0m\u001b[0;34m\u001b[0m\u001b[0;34m\u001b[0m\u001b[0m\n\u001b[0;32m----> 4\u001b[0;31m \u001b[0mmodel\u001b[0m\u001b[0;34m.\u001b[0m\u001b[0mfit\u001b[0m\u001b[0;34m(\u001b[0m\u001b[0mX\u001b[0m\u001b[0;34m,\u001b[0m \u001b[0my\u001b[0m\u001b[0;34m)\u001b[0m\u001b[0;34m\u001b[0m\u001b[0;34m\u001b[0m\u001b[0m\n\u001b[0m\u001b[1;32m      5\u001b[0m \u001b[0;31m# get importance\u001b[0m\u001b[0;34m\u001b[0m\u001b[0;34m\u001b[0m\u001b[0;34m\u001b[0m\u001b[0m\n\u001b[1;32m      6\u001b[0m \u001b[0mimportance\u001b[0m \u001b[0;34m=\u001b[0m \u001b[0mmodel\u001b[0m\u001b[0;34m.\u001b[0m\u001b[0mcoef_\u001b[0m\u001b[0;34m[\u001b[0m\u001b[0;36m0\u001b[0m\u001b[0;34m]\u001b[0m\u001b[0;34m\u001b[0m\u001b[0;34m\u001b[0m\u001b[0m\n",
            "\u001b[0;31mNameError\u001b[0m: name 'model' is not defined"
          ]
        }
      ]
    },
    {
      "cell_type": "code",
      "source": [],
      "metadata": {
        "id": "ykkajuDK9K1b"
      },
      "execution_count": null,
      "outputs": []
    },
    {
      "cell_type": "code",
      "source": [],
      "metadata": {
        "id": "4eLm1b8IaMfd"
      },
      "execution_count": null,
      "outputs": []
    },
    {
      "cell_type": "code",
      "source": [
        "print(f\" Xtrain:{Xtrain.shape}, ytrain:{ytrain.shape}\") #shapes of training sets \n",
        "print(f\" Xtest:{Xtest.shape}, ytest:{ytest.shape}\")     #shapes of test sets"
      ],
      "metadata": {
        "id": "G7NvRxI8yv6M"
      },
      "execution_count": null,
      "outputs": []
    },
    {
      "cell_type": "markdown",
      "source": [
        "Let's take a sneak peek at our train dataset Xtrain: we can see how much of the water is potable or not:"
      ],
      "metadata": {
        "id": "g-JJzGJMHmxf"
      }
    },
    {
      "cell_type": "code",
      "source": [
        "Xtrain.describe()"
      ],
      "metadata": {
        "id": "NXm_tWakHwmT"
      },
      "execution_count": null,
      "outputs": []
    },
    {
      "cell_type": "markdown",
      "source": [
        "Then we'll set up a categorical attribute pipeline using  an imputer using SimpleImputer with \"most_frequent\" set as the strategy and a \"cat_encoder\" that uses a OneHotEncoder with the sparse parameter set to False (cf Notebook Classification)"
      ],
      "metadata": {
        "id": "rv14TX2kIzqO"
      }
    },
    {
      "cell_type": "code",
      "source": [
        "plt.figure(figsize=(10,8))\n",
        "sns.heatmap(data.corr(), annot=True)"
      ],
      "metadata": {
        "id": "rQMMdO6gG8CG"
      },
      "execution_count": null,
      "outputs": []
    },
    {
      "cell_type": "code",
      "source": [
        "# 1) DO NOT RUN THIS CELL Let's import the classes we'll need from scikit-learn in order to set up\n",
        "# our data pipeline.\n",
        "from sklearn.pipeline import Pipeline\n",
        "from sklearn.impute import SimpleImputer\n",
        "from sklearn.preprocessing import StandardScaler\n",
        "\n",
        "# The Pipeline needs to be initiated with a list containing the name of the\n",
        "# preprocessor (e.g., \"imputer\" or \"scaler\").\n",
        "num_pipeline = Pipeline([                           # We'll instantiate the pipeline class\n",
        "     (\"imputer\", SimpleImputer(strategy=\"mean\")),   # Which will use the imputer\n",
        "     (\"scaler\", StandardScaler() ) ])               # as well as the scaler\n",
        "#===============================================================================\n",
        "\n",
        "# 2)\n",
        "from sklearn import pipeline \n",
        "# Let's import the One Hot Encoder function from scikit-learn, and set up our\n",
        "# categorical data pipeline-----------------------------------------------------\n",
        "from sklearn.preprocessing import OneHotEncoder\n",
        "\n",
        "cat_pipeline = Pipeline( [                                # We instantiate the pipeline class...\n",
        "    (\"imputer\", SimpleImputer(strategy=\"most_frequent\")), # ...And set up an imputer with a strategy set to most frequent...\n",
        "    (\"cat_encoder\", OneHotEncoder(sparse=False)) ] )      # ...and an encoder with a given sparsity parameter"
      ],
      "metadata": {
        "id": "5SK6QuQWJAoW"
      },
      "execution_count": null,
      "outputs": []
    },
    {
      "cell_type": "code",
      "source": [
        "# DO NOT RUN THIS CELL Let's import the scikit implementation of random forest classifiers\n",
        "from sklearn.ensemble import RandomForestClassifier\n",
        "\n",
        "# And now let's instantiate the RandomForestClassifier class\n",
        "forest_clf = RandomForestClassifier(n_estimators=100,      # Set our number of estimators to 100\n",
        "                                    random_state=rnd_seed) # And set our random seed for consistent results\n",
        "\n",
        "# We end by fitting the model\n",
        "forest_clf.fit(Xtrain,ytrain) # fit(xtrain, ytrain) \n",
        "\n"
      ],
      "metadata": {
        "id": "QXBzNPgLJz97"
      },
      "execution_count": null,
      "outputs": []
    },
    {
      "cell_type": "markdown",
      "source": [
        "Now we can predict a set of answers using the trained model and compare it using the accuracy_score metric"
      ],
      "metadata": {
        "id": "XuIMpBiGMfdD"
      }
    },
    {
      "cell_type": "code",
      "source": [
        "#DO NOT RUN THIS CELL\n",
        "X_train_augmented = [i for i in Xtrain]\n",
        "X_train_augmented = np.asarray(X_train_augmented)\n",
        "y_train_augmented = [j for j in ytrain]\n",
        "y_train_augmented = np.asarray(y_train_augmented)\n",
        "# Generate scrambled indices list\n",
        "aug_shuffler = rnd_gen.permutation(len(X_train_augmented))\n",
        "\n",
        "# Shuffle the array using the scrambled indices - that way the input data order\n",
        "# matches the target data order\n",
        "X_train_augmented = X_train_augmented[aug_shuffler]\n",
        "y_train_augmented = y_train_augmented[aug_shuffler]"
      ],
      "metadata": {
        "id": "nB3ATGvUPizu"
      },
      "execution_count": null,
      "outputs": []
    },
    {
      "cell_type": "code",
      "source": [
        "#DO NOT RUN THIS CELL\n",
        "# accuracy_score(y_true, y_pred)\n",
        "# Begin by importing the KNeighersClassifier and GridSearchCV from scikit.\n",
        "from sklearn.neighbors import KNeighborsClassifier\n",
        "from sklearn.model_selection import GridSearchCV\n",
        "from sklearn.ensemble import RandomForestRegressor\n",
        "\n",
        "# Instantiate the imported model class\n",
        "knn_clf = KNeighborsClassifier()\n",
        "#---------------------------------- (1) ----------------------------------------\n",
        "# Let's instantiate the scikit class used to do grid searches\n",
        "grid_search = GridSearchCV(RandomForestRegressor(random_state=0),\n",
        "                           {\n",
        "                              'n_estimators':np.arange(5,100,5),\n",
        "                              'max_features':np.arange(0.1,1.0,0.05),\n",
        "                            \n",
        "                            },cv=5, scoring=\"r2\",verbose=1,n_jobs=-1\n",
        "                           )\n",
        "\n",
        "grid_search.fit(Xtrain, ytrain)    \n",
        "#---------------------------------- (2) ----------------------------------------\n",
        "\n",
        "# Let's import the accuracy score implementation in scikit-learn\n",
        "from sklearn.metrics import accuracy_score\n",
        "\n",
        "# Then let's get predictions from our model\n",
        "y_pred = grid_search.predict(X_train_augmented)\n",
        "\n",
        "# Let's calculate the accuracy...\n",
        "accuracy = accuracy_score(y_train_augmented, # We'll need our ground truth\n",
        "                   y_pred) # and our predictions\n",
        "print(f'The accuracy we got on our training dataset is {accuracy:.1%}')\n",
        "# with x_train_augmented and ytrainaugmented/ ypred ==> accuracy 94.4%"
      ],
      "metadata": {
        "id": "vUeUB4bnOHeB"
      },
      "execution_count": null,
      "outputs": []
    },
    {
      "cell_type": "markdown",
      "source": [
        "So apparently we came across quite a screwed up code...\n",
        "try something else"
      ],
      "metadata": {
        "id": "mkhA5Yprda1l"
      }
    },
    {
      "cell_type": "markdown",
      "source": [
        "*2.4) From a written code on Kaggle, that we recycled there, we calculated the accuracy of RF classifier algorithm.*"
      ],
      "metadata": {
        "id": "UpvS_DMadam8"
      }
    },
    {
      "cell_type": "code",
      "source": [
        "from sklearn.model_selection import train_test_split\n",
        "from sklearn.tree import DecisionTreeClassifier\n",
        "from sklearn.ensemble import RandomForestClassifier\n",
        "#from sklearn.neighbors import KNeighborsClassifier\n",
        "#from sklearn.ensemble import AdaBoostClassifier\n",
        "#from xgboost import XGBClassifier\n",
        "from sklearn.model_selection import RandomizedSearchCV, GridSearchCV\n",
        "from sklearn.metrics import accuracy_score\n",
        "#knn = KNeighborsClassifier()\n",
        "\n",
        "#dt = DecisionTreeClassifier()\n",
        "\n",
        "rf = RandomForestClassifier()\n",
        "\n",
        "#ada = AdaBoostClassifier()\n",
        "\n",
        "#xgb =XGBClassifier(eval_metric = 'logloss', use_label_encoder=False)\n",
        "\n",
        "\n",
        "#para_knn = {'n_neighbors':np.arange(1, 50)}             #parameters of knn\n",
        "#grid_knn = GridSearchCV(knn, param_grid=para_knn, cv=5) #search knn for 5 fold cross validation\n",
        "\n",
        "#Decision Tree\n",
        "#para_dt = {'criterion':['gini','entropy'],\n",
        " #          'max_depth':np.arange(1, 50), \n",
        "  #         'min_samples_leaf':[1,2,4,5,10,20,30,40,80,100]}\n",
        "#grid_dt = GridSearchCV(dt, param_grid=para_dt, cv=5) #grid search decision tree for 5 fold cv\n",
        "\n",
        "#============================== random forest ==================================\n",
        "params_rf = {'n_estimators':[100,200, 350, 500],\n",
        "             'min_samples_leaf':[2, 10, 30]}\n",
        "grid_rf = GridSearchCV(rf, param_grid=params_rf, cv=5)\n",
        "\n",
        "#AdaBoost\n",
        "#params_ada = {'n_estimators': [50,100,250,400,500,600], \n",
        " #             'learning_rate': [0.2,0.5,0.8,1]}\n",
        "#grid_ada =  GridSearchCV(ada, param_grid=params_ada, cv=5)\n",
        "\n",
        "#XGBoost\n",
        "#params_xgb = {'n_estimators': [50,100,250,400,600,800,1000],\n",
        " #             'learning_rate': [0.2,0.5,0.8,1]}\n",
        "#rs_xgb =  RandomizedSearchCV(xgb, param_distributions=params_xgb, cv=5)"
      ],
      "metadata": {
        "id": "LkKbUN3Xf-jB"
      },
      "execution_count": 37,
      "outputs": []
    },
    {
      "cell_type": "code",
      "source": [
        "#grid_knn.fit(Xtrain, ytrain)\n",
        "#grid_dt.fit(Xtrain, ytrain)\n",
        "grid_rf.fit(X_train, ytrain)\n",
        "\n",
        "# find the best parameters ...\n",
        "#print(\"Best parameters for KNN:\", \n",
        " #     grid_knn.best_params_)\n",
        "#print(\"Best parameters for Decision Tree:\", \n",
        " #     grid_dt.best_params_)\n",
        "print(\"Best parameters for Random Forest:\", \n",
        "      grid_rf.best_params_)"
      ],
      "metadata": {
        "colab": {
          "base_uri": "https://localhost:8080/"
        },
        "id": "miNs0uM3gl68",
        "outputId": "42fadd35-e5e3-4b96-955a-02f40b6e7650"
      },
      "execution_count": 38,
      "outputs": [
        {
          "output_type": "stream",
          "name": "stdout",
          "text": [
            "Best parameters for Random Forest: {'min_samples_leaf': 2, 'n_estimators': 350}\n"
          ]
        }
      ]
    },
    {
      "cell_type": "markdown",
      "source": [
        "We can then calculate our accuracy based on ground truth and predictions:\n"
      ],
      "metadata": {
        "id": "dg4WAxYFhA4D"
      }
    },
    {
      "cell_type": "code",
      "source": [
        "models = [\n",
        "    #('K Nearest Neighbours', knn),\n",
        "     #     ('Decision Tree', dt), \n",
        "          ('Random Forest', rf)] # we only opted for the 3 models there, but focusing on random forest (more promising)\n",
        "\n",
        "\n",
        "for model_name, model in models:\n",
        " \n",
        "    model.fit(X_train, ytrain)                     # fitting model\n",
        "    y_predicted = model.predict(Xtest)            # calculate y predicted\n",
        "    accuracy    = accuracy_score(ytest,y_predicted)     # that's the accuracy\n",
        "\n",
        "    print('{:s} : {:.2f}'.format(model_name, accuracy))"
      ],
      "metadata": {
        "colab": {
          "base_uri": "https://localhost:8080/"
        },
        "id": "dgk8SL2MhJyZ",
        "outputId": "73067088-6e45-4197-bd60-01dd123ad6c3"
      },
      "execution_count": 41,
      "outputs": [
        {
          "output_type": "stream",
          "name": "stdout",
          "text": [
            "Random Forest : 0.57\n"
          ]
        }
      ]
    },
    {
      "cell_type": "markdown",
      "source": [
        "Accuracy obtained: 66%"
      ],
      "metadata": {
        "id": "Qumy8-1ziPtw"
      }
    },
    {
      "cell_type": "markdown",
      "source": [
        "cm=metrics.confusion_matrix(test_labels,pred)\n",
        "print(cm)\n",
        "plt.imshow(cm, cmap='binary')"
      ],
      "metadata": {
        "id": "YakXAipdiPcP"
      }
    },
    {
      "cell_type": "code",
      "source": [
        "from sklearn.metrics import confusion_matrix\n",
        "from sklearn.metrics import ConfusionMatrixDisplay\n",
        "\n",
        "cm=confusion_matrix(ytest,y_predicted)\n",
        "disp = ConfusionMatrixDisplay(cm).plot()\n",
        "\n",
        "cm_normalized = confusion_matrix(ytest, y_predicted, normalize='true')\n",
        "disp_normalized = ConfusionMatrixDisplay(cm_normalized).plot()"
      ],
      "metadata": {
        "colab": {
          "base_uri": "https://localhost:8080/",
          "height": 560
        },
        "id": "VF5dSPHMjFpp",
        "outputId": "f67d0826-45e3-46d4-ba5c-afa63a4e6fd6"
      },
      "execution_count": 42,
      "outputs": [
        {
          "output_type": "display_data",
          "data": {
            "text/plain": [
              "<Figure size 432x288 with 2 Axes>"
            ],
            "image/png": "[encoded data removed]"
          },
          "metadata": {
            "needs_background": "light"
          }
        },
        {
          "output_type": "display_data",
          "data": {
            "text/plain": [
              "<Figure size 432x288 with 2 Axes>"
            ],
            "image/png": "[encoded data removed]"
          },
          "metadata": {
            "needs_background": "light"
          }
        }
      ]
    },
    {
      "cell_type": "code",
      "source": [],
      "metadata": {
        "id": "o3_qzS0HjFme"
      },
      "execution_count": null,
      "outputs": []
    },
    {
      "cell_type": "code",
      "source": [],
      "metadata": {
        "id": "QwCd4G4mjFj1"
      },
      "execution_count": null,
      "outputs": []
    },
    {
      "cell_type": "code",
      "source": [],
      "metadata": {
        "id": "8jxJ4xcFjFgh"
      },
      "execution_count": null,
      "outputs": []
    },
    {
      "cell_type": "code",
      "source": [],
      "metadata": {
        "id": "ZAxNmRzIjFRo"
      },
      "execution_count": null,
      "outputs": []
    },
    {
      "cell_type": "code",
      "source": [],
      "metadata": {
        "id": "2ctFyY1XjFMp"
      },
      "execution_count": null,
      "outputs": []
    }
  ]
}